{
 "cells": [
  {
   "cell_type": "markdown",
   "metadata": {},
   "source": [
    "# Recommendation"
   ]
  },
  {
   "cell_type": "markdown",
   "metadata": {},
   "source": [
    "Approche choisie pour créer un système de recommandation : Algorithme de clustering"
   ]
  },
  {
   "cell_type": "code",
   "execution_count": 118,
   "metadata": {},
   "outputs": [],
   "source": [
    "from sklearn.cluster import KMeans\n",
    "from sklearn.preprocessing import LabelEncoder\n",
    "import pandas as pd\n",
    "import json"
   ]
  },
  {
   "cell_type": "markdown",
   "metadata": {},
   "source": [
    "Récupère les données des images favorites de l'utilisateur"
   ]
  },
  {
   "cell_type": "code",
   "execution_count": 168,
   "metadata": {},
   "outputs": [],
   "source": [
    "# Charge les données du fichier JSON\n",
    "with open(\"profil.json\", \"r\", encoding=\"utf-8\") as file:\n",
    "    json_data = json.load(file)\n",
    "\n",
    "# Extrait les données et les résultats\n",
    "images = json_data[\"images\"]\n",
    "data = json_data[\"data\"]\n",
    "result = json_data[\"resultats\"]\n",
    "\n",
    "# Crée le DataFrame\n",
    "data_images = pd.DataFrame(images, columns=[\"nom_image\"])\n",
    "# Ajoute les colonnes en décomposant les données de \"data\"\n",
    "data_expanded = pd.DataFrame(data, columns=[\"orientation\", \"qualite\", \"animal\", \"nature\", \"luminosite\"])\n",
    "# Et concatène les deux DataFrames\n",
    "dataframe = pd.concat([data_images, data_expanded], axis=1)\n",
    "\n",
    "given_images = dataframe\n",
    "given_images = given_images.values.tolist()\n",
    "\n",
    "# Ajoute la colonne des résultats\n",
    "dataframe['result'] = result\n",
    "\n",
    "# Filtre les données pour ne garder que les images favorites\n",
    "df_favorite = dataframe[dataframe['result'] == 'Favorite']\n",
    "\n",
    "# Supprime la colonne 'result' après le filtrage\n",
    "df_favorite = df_favorite.drop(columns=[\"result\"])\n",
    "\n",
    "# Convertit le DataFrame en une liste\n",
    "favorite_list = df_favorite.values.tolist()"
   ]
  },
  {
   "cell_type": "code",
   "execution_count": 171,
   "metadata": {},
   "outputs": [
    {
     "name": "stdout",
     "output_type": "stream",
     "text": [
      "longueur : 10\n",
      "[['68.jpg', 'Paysage', 'basse', 'Chien', 'pas de nature', 'sombre'], ['34.jpg', 'Paysage', 'basse', 'Chien', 'en nature', 'sombre'], ['81.jpg', 'Paysage', 'basse', 'Chien', 'pas de nature', 'lumineux'], ['98.JPG', 'Paysage', 'moyenne', 'Chien', 'en nature', 'lumineux'], ['59.jpg', 'Portrait', 'haute', 'Chien', 'en nature', 'sombre'], ['75.jpg', 'Paysage', 'basse', 'Chien', 'en nature', 'sombre'], ['102.jpg', 'Paysage', 'haute', 'Chien', 'pas de nature', 'sombre'], ['44.jpg', 'Paysage', 'moyenne', 'Chien', 'pas de nature', 'sombre'], ['46.jpg', 'Paysage', 'moyenne', 'Chien', 'en nature', 'sombre'], ['105.jpg', 'Paysage', 'moyenne', 'Chien', 'pas de nature', 'sombre']]\n",
      "   nom_image orientation  qualite animal         nature luminosite\n",
      "1     68.jpg     Paysage    basse  Chien  pas de nature     sombre\n",
      "3     34.jpg     Paysage    basse  Chien      en nature     sombre\n",
      "7     81.jpg     Paysage    basse  Chien  pas de nature   lumineux\n",
      "10    98.JPG     Paysage  moyenne  Chien      en nature   lumineux\n",
      "11    59.jpg    Portrait    haute  Chien      en nature     sombre\n",
      "13    75.jpg     Paysage    basse  Chien      en nature     sombre\n",
      "14   102.jpg     Paysage    haute  Chien  pas de nature     sombre\n",
      "15    44.jpg     Paysage  moyenne  Chien  pas de nature     sombre\n",
      "17    46.jpg     Paysage  moyenne  Chien      en nature     sombre\n",
      "18   105.jpg     Paysage  moyenne  Chien  pas de nature     sombre\n"
     ]
    }
   ],
   "source": [
    "print(\"longueur :\", len(df_favorite))\n",
    "print(favorite_list)\n",
    "print(df_favorite)"
   ]
  },
  {
   "cell_type": "markdown",
   "metadata": {},
   "source": [
    "Récupère les données de toutes les images existantes et enlève les 20 images proposées à l'utilisateur"
   ]
  },
  {
   "cell_type": "code",
   "execution_count": null,
   "metadata": {},
   "outputs": [],
   "source": [
    "# Charge les données du fichier JSON\n",
    "with open(\"profil.json\", \"r\", encoding=\"utf-8\") as file:\n",
    "    json_data = json.load(file)\n",
    "\n",
    "# Récupère la liste des chemins des images\n",
    "img_paths = json_data[\"images\"]"
   ]
  },
  {
   "cell_type": "code",
   "execution_count": null,
   "metadata": {},
   "outputs": [],
   "source": [
    "# Charge les données du fichier JSON\n",
    "with open(\"etiquetage.json\", \"r\", encoding=\"utf-8\") as file:\n",
    "    json_data = json.load(file)\n",
    "\n",
    "# Crée le DataFrame\n",
    "dataframe = pd.DataFrame(json_data, columns=[\"nom_image\", \"orientation\", \"qualite\", \"animal\", \"nature\", \"luminosite\"])\n",
    "\n",
    "# Filtrer les données pour exclure les images spécifiées\n",
    "dataframe_filtered = dataframe[~dataframe[\"nom_image\"].isin(img_paths)]\n",
    "\n",
    "# Convertit le DataFrame en une liste\n",
    "data_list = dataframe.values.tolist()\n",
    "data_list_filtered = dataframe_filtered.values.tolist()"
   ]
  },
  {
   "cell_type": "code",
   "execution_count": 158,
   "metadata": {},
   "outputs": [
    {
     "name": "stdout",
     "output_type": "stream",
     "text": [
      "longueur : 116\n",
      "[['1.jpg', 'Paysage', 'moyenne', 'Chien', 'pas de nature', 'sombre'], ['10.jpg', 'Portrait', 'moyenne', 'Chat', 'pas de nature', 'lumineux'], ['100.jpg', 'Paysage', 'moyenne', 'Chien', 'pas de nature', 'lumineux'], ['101.png', 'Portrait', 'moyenne', 'Chat', 'pas de nature', 'sombre'], ['102.jpg', 'Paysage', 'haute', 'Chien', 'pas de nature', 'sombre'], ['103.jpg', 'Paysage', 'basse', 'Chien', 'pas de nature', 'lumineux'], ['104.jpg', 'Paysage', 'haute', 'Chien', 'en nature', 'sombre'], ['105.jpg', 'Paysage', 'moyenne', 'Chien', 'pas de nature', 'sombre'], ['106.jpg', 'Portrait', 'basse', 'Chat', 'pas de nature', 'sombre'], ['107.jpg', 'Portrait', 'moyenne', 'Chat', 'pas de nature', 'lumineux'], ['108.jpg', 'Paysage', 'moyenne', 'Chat', 'pas de nature', 'lumineux'], ['109.jpg', 'Paysage', 'moyenne', 'Chat', 'en nature', 'lumineux'], ['11.jpg', 'Paysage', 'moyenne', 'Chat', 'pas de nature', 'sombre'], ['110.jpg', 'Portrait', 'moyenne', 'Chat', 'pas de nature', 'lumineux'], ['111.jpg', 'Portrait', 'basse', 'Chien', 'pas de nature', 'sombre'], ['112.jpg', 'Paysage', 'basse', 'Chat', 'pas de nature', 'lumineux'], ['113.jpg', 'Paysage', 'haute', 'Chat', 'pas de nature', 'sombre'], ['114.jpg', 'Paysage', 'moyenne', 'Chien', 'pas de nature', 'sombre'], ['115.jpg', 'Portrait', 'haute', 'Chat', 'pas de nature', 'sombre'], ['116.jpg', 'Paysage', 'basse', 'Chien', 'pas de nature', 'lumineux'], ['12.JPG', 'Paysage', 'moyenne', 'Chat', 'pas de nature', 'sombre'], ['13.jpg', 'Carré', 'basse', 'Chien', 'en nature', 'lumineux'], ['14.jpg', 'Portrait', 'basse', 'Chien', 'pas de nature', 'sombre'], ['15.jpg', 'Portrait', 'moyenne', 'Chat', 'pas de nature', 'lumineux'], ['16.JPG', 'Portrait', 'basse', 'Chat', 'pas de nature', 'lumineux'], ['17.jpg', 'Carré', 'moyenne', 'Chien', 'pas de nature', 'sombre'], ['18.JPG', 'Paysage', 'moyenne', 'Unknown', 'en nature', 'sombre'], ['19.jpg', 'Paysage', 'basse', 'Chat', 'pas de nature', 'sombre'], ['2.jpg', 'Paysage', 'moyenne', 'Chat', 'pas de nature', 'lumineux'], ['20.jpg', 'Paysage', 'moyenne', 'Chien', 'pas de nature', 'lumineux'], ['21.jpg', 'Paysage', 'moyenne', 'Chat', 'en nature', 'lumineux'], ['22.jpg', 'Paysage', 'haute', 'Chat', 'pas de nature', 'sombre'], ['23.png', 'Portrait', 'moyenne', 'Chat', 'pas de nature', 'sombre'], ['24.jpg', 'Portrait', 'moyenne', 'Chien', 'pas de nature', 'sombre'], ['25.JPG', 'Paysage', 'moyenne', 'Chat', 'pas de nature', 'lumineux'], ['26.jpg', 'Paysage', 'haute', 'Chien', 'pas de nature', 'sombre'], ['27.jpg', 'Paysage', 'basse', 'Chien', 'pas de nature', 'lumineux'], ['28.jpg', 'Paysage', 'haute', 'Chat', 'pas de nature', 'lumineux'], ['29.JPG', 'Portrait', 'moyenne', 'Chat', 'pas de nature', 'lumineux'], ['3.jpg', 'Paysage', 'moyenne', 'Chien', 'en nature', 'sombre'], ['30.jpg', 'Paysage', 'basse', 'Chien', 'pas de nature', 'sombre'], ['31.jpg', 'Portrait', 'haute', 'Chat', 'en nature', 'lumineux'], ['32.jpg', 'Portrait', 'haute', 'Chat', 'pas de nature', 'sombre'], ['33.jpg', 'Paysage', 'moyenne', 'Chien', 'pas de nature', 'lumineux'], ['34.jpg', 'Paysage', 'basse', 'Chien', 'en nature', 'sombre'], ['35.JPG', 'Portrait', 'moyenne', 'Chat', 'pas de nature', 'sombre'], ['36.jpg', 'Paysage', 'basse', 'Chien', 'pas de nature', 'sombre'], ['37.jpeg', 'Portrait', 'moyenne', 'Chat', 'en nature', 'lumineux'], ['38.jpg', 'Portrait', 'basse', 'Chien', 'en nature', 'sombre'], ['39.jpg', 'Paysage', 'basse', 'Chien', 'en nature', 'sombre'], ['4.jpg', 'Paysage', 'basse', 'Chien', 'pas de nature', 'lumineux'], ['40.jpg', 'Portrait', 'basse', 'Chien', 'en nature', 'lumineux'], ['41.jpg', 'Paysage', 'moyenne', 'Chien', 'pas de nature', 'sombre'], ['42.jpg', 'Portrait', 'basse', 'Chien', 'pas de nature', 'sombre'], ['43.JPG', 'Paysage', 'moyenne', 'Chien', 'pas de nature', 'sombre'], ['44.jpg', 'Paysage', 'moyenne', 'Chien', 'pas de nature', 'sombre'], ['45.jpg', 'Paysage', 'moyenne', 'Chien', 'pas de nature', 'sombre'], ['46.jpg', 'Paysage', 'moyenne', 'Chien', 'en nature', 'sombre'], ['47.JPG', 'Paysage', 'moyenne', 'Chat', 'pas de nature', 'lumineux'], ['48.JPG', 'Portrait', 'basse', 'Chat', 'pas de nature', 'sombre'], ['49.jpg', 'Paysage', 'moyenne', 'Chat', 'pas de nature', 'lumineux'], ['5.jpg', 'Portrait', 'basse', 'Chat', 'pas de nature', 'sombre'], ['50.jpg', 'Paysage', 'basse', 'Chat', 'en nature', 'sombre'], ['51.jpg', 'Paysage', 'basse', 'Chat', 'pas de nature', 'lumineux'], ['52.jpg', 'Paysage', 'moyenne', 'Chien', 'pas de nature', 'lumineux'], ['53.jpg', 'Paysage', 'moyenne', 'Chien', 'pas de nature', 'sombre'], ['54.jpg', 'Paysage', 'basse', 'Chien', 'pas de nature', 'lumineux'], ['55.jpg', 'Portrait', 'moyenne', 'Chat', 'pas de nature', 'sombre'], ['56.jpg', 'Portrait', 'basse', 'Chien', 'pas de nature', 'lumineux'], ['57.jpg', 'Portrait', 'moyenne', 'Chien', 'en nature', 'lumineux'], ['58.jpg', 'Paysage', 'basse', 'Chien', 'pas de nature', 'sombre'], ['59.jpg', 'Portrait', 'haute', 'Chien', 'en nature', 'sombre'], ['6.jpg', 'Portrait', 'moyenne', 'Chien', 'pas de nature', 'lumineux'], ['60.jpg', 'Paysage', 'basse', 'Chien', 'pas de nature', 'sombre'], ['61.jpg', 'Paysage', 'basse', 'Chien', 'pas de nature', 'sombre'], ['62.JPG', 'Paysage', 'basse', 'Chat', 'pas de nature', 'lumineux'], ['63.jpg', 'Paysage', 'basse', 'Chien', 'pas de nature', 'sombre'], ['64.jpg', 'Portrait', 'basse', 'Chat', 'pas de nature', 'sombre'], ['65.jpg', 'Paysage', 'basse', 'Chat', 'pas de nature', 'sombre'], ['66.jpg', 'Portrait', 'haute', 'Chat', 'pas de nature', 'sombre'], ['67.JPG', 'Portrait', 'haute', 'Chat', 'pas de nature', 'lumineux'], ['68.jpg', 'Paysage', 'basse', 'Chien', 'pas de nature', 'sombre'], ['69.jpg', 'Paysage', 'haute', 'Chat', 'pas de nature', 'sombre'], ['7.jpg', 'Carré', 'moyenne', 'Chien', 'pas de nature', 'lumineux'], ['70.jpg', 'Paysage', 'moyenne', 'Chien', 'en nature', 'sombre'], ['71.jpg', 'Paysage', 'moyenne', 'Chat', 'pas de nature', 'sombre'], ['72.jpg', 'Paysage', 'basse', 'Chien', 'pas de nature', 'lumineux'], ['73.jpg', 'Paysage', 'basse', 'Chat', 'en nature', 'lumineux'], ['74.jpg', 'Paysage', 'moyenne', 'Chien', 'pas de nature', 'lumineux'], ['75.jpg', 'Paysage', 'basse', 'Chien', 'en nature', 'sombre'], ['76.png', 'Portrait', 'moyenne', 'Chien', 'en nature', 'sombre'], ['77.jpg', 'Paysage', 'moyenne', 'Unknown', 'en nature', 'sombre'], ['78.jpeg', 'Paysage', 'basse', 'Chat', 'en nature', 'lumineux'], ['79.jpg', 'Portrait', 'basse', 'Chat', 'pas de nature', 'lumineux'], ['8.jpg', 'Portrait', 'moyenne', 'Chat', 'pas de nature', 'sombre'], ['80.jpg', 'Portrait', 'moyenne', 'Chat', 'pas de nature', 'lumineux'], ['81.jpg', 'Paysage', 'basse', 'Chien', 'pas de nature', 'lumineux'], ['82.jpg', 'Paysage', 'haute', 'Chat', 'pas de nature', 'lumineux'], ['83.JPG', 'Paysage', 'basse', 'Chat', 'pas de nature', 'sombre'], ['84.jpg', 'Paysage', 'haute', 'Chat', 'pas de nature', 'sombre'], ['85.JPG', 'Portrait', 'basse', 'Chat', 'pas de nature', 'sombre'], ['86.jpg', 'Paysage', 'moyenne', 'Chien', 'en nature', 'sombre'], ['87.jpg', 'Paysage', 'basse', 'Chat', 'pas de nature', 'lumineux'], ['88.jpg', 'Portrait', 'basse', 'Chat', 'pas de nature', 'sombre'], ['89.jpg', 'Paysage', 'moyenne', 'Chien', 'pas de nature', 'sombre'], ['9.jpg', 'Paysage', 'haute', 'Chien', 'pas de nature', 'lumineux'], ['90.jpg', 'Paysage', 'moyenne', 'Chien', 'pas de nature', 'sombre'], ['91.jpg', 'Paysage', 'moyenne', 'Chien', 'pas de nature', 'sombre'], ['92.jpg', 'Portrait', 'moyenne', 'Chat', 'pas de nature', 'sombre'], ['93.jpg', 'Paysage', 'moyenne', 'Chat', 'pas de nature', 'sombre'], ['94.jpg', 'Paysage', 'moyenne', 'Chien', 'pas de nature', 'lumineux'], ['95.jpg', 'Paysage', 'moyenne', 'Chien', 'pas de nature', 'sombre'], ['96.jpg', 'Portrait', 'basse', 'Chat', 'pas de nature', 'lumineux'], ['97.jpg', 'Paysage', 'moyenne', 'Chien', 'pas de nature', 'sombre'], ['98.JPG', 'Paysage', 'moyenne', 'Chien', 'en nature', 'lumineux'], ['99.jpg', 'Paysage', 'moyenne', 'Chien', 'en nature', 'lumineux']]\n",
      "[['1.jpg', 'Paysage', 'moyenne', 'Chien', 'pas de nature', 'sombre'], ['10.jpg', 'Portrait', 'moyenne', 'Chat', 'pas de nature', 'lumineux'], ['100.jpg', 'Paysage', 'moyenne', 'Chien', 'pas de nature', 'lumineux'], ['101.png', 'Portrait', 'moyenne', 'Chat', 'pas de nature', 'sombre'], ['103.jpg', 'Paysage', 'basse', 'Chien', 'pas de nature', 'lumineux'], ['104.jpg', 'Paysage', 'haute', 'Chien', 'en nature', 'sombre'], ['106.jpg', 'Portrait', 'basse', 'Chat', 'pas de nature', 'sombre'], ['107.jpg', 'Portrait', 'moyenne', 'Chat', 'pas de nature', 'lumineux'], ['108.jpg', 'Paysage', 'moyenne', 'Chat', 'pas de nature', 'lumineux'], ['109.jpg', 'Paysage', 'moyenne', 'Chat', 'en nature', 'lumineux'], ['11.jpg', 'Paysage', 'moyenne', 'Chat', 'pas de nature', 'sombre'], ['110.jpg', 'Portrait', 'moyenne', 'Chat', 'pas de nature', 'lumineux'], ['111.jpg', 'Portrait', 'basse', 'Chien', 'pas de nature', 'sombre'], ['113.jpg', 'Paysage', 'haute', 'Chat', 'pas de nature', 'sombre'], ['114.jpg', 'Paysage', 'moyenne', 'Chien', 'pas de nature', 'sombre'], ['115.jpg', 'Portrait', 'haute', 'Chat', 'pas de nature', 'sombre'], ['116.jpg', 'Paysage', 'basse', 'Chien', 'pas de nature', 'lumineux'], ['13.jpg', 'Carré', 'basse', 'Chien', 'en nature', 'lumineux'], ['14.jpg', 'Portrait', 'basse', 'Chien', 'pas de nature', 'sombre'], ['15.jpg', 'Portrait', 'moyenne', 'Chat', 'pas de nature', 'lumineux'], ['16.JPG', 'Portrait', 'basse', 'Chat', 'pas de nature', 'lumineux'], ['17.jpg', 'Carré', 'moyenne', 'Chien', 'pas de nature', 'sombre'], ['18.JPG', 'Paysage', 'moyenne', 'Unknown', 'en nature', 'sombre'], ['19.jpg', 'Paysage', 'basse', 'Chat', 'pas de nature', 'sombre'], ['2.jpg', 'Paysage', 'moyenne', 'Chat', 'pas de nature', 'lumineux'], ['21.jpg', 'Paysage', 'moyenne', 'Chat', 'en nature', 'lumineux'], ['22.jpg', 'Paysage', 'haute', 'Chat', 'pas de nature', 'sombre'], ['24.jpg', 'Portrait', 'moyenne', 'Chien', 'pas de nature', 'sombre'], ['25.JPG', 'Paysage', 'moyenne', 'Chat', 'pas de nature', 'lumineux'], ['26.jpg', 'Paysage', 'haute', 'Chien', 'pas de nature', 'sombre'], ['27.jpg', 'Paysage', 'basse', 'Chien', 'pas de nature', 'lumineux'], ['28.jpg', 'Paysage', 'haute', 'Chat', 'pas de nature', 'lumineux'], ['29.JPG', 'Portrait', 'moyenne', 'Chat', 'pas de nature', 'lumineux'], ['3.jpg', 'Paysage', 'moyenne', 'Chien', 'en nature', 'sombre'], ['30.jpg', 'Paysage', 'basse', 'Chien', 'pas de nature', 'sombre'], ['31.jpg', 'Portrait', 'haute', 'Chat', 'en nature', 'lumineux'], ['32.jpg', 'Portrait', 'haute', 'Chat', 'pas de nature', 'sombre'], ['33.jpg', 'Paysage', 'moyenne', 'Chien', 'pas de nature', 'lumineux'], ['35.JPG', 'Portrait', 'moyenne', 'Chat', 'pas de nature', 'sombre'], ['36.jpg', 'Paysage', 'basse', 'Chien', 'pas de nature', 'sombre'], ['37.jpeg', 'Portrait', 'moyenne', 'Chat', 'en nature', 'lumineux'], ['38.jpg', 'Portrait', 'basse', 'Chien', 'en nature', 'sombre'], ['39.jpg', 'Paysage', 'basse', 'Chien', 'en nature', 'sombre'], ['4.jpg', 'Paysage', 'basse', 'Chien', 'pas de nature', 'lumineux'], ['40.jpg', 'Portrait', 'basse', 'Chien', 'en nature', 'lumineux'], ['41.jpg', 'Paysage', 'moyenne', 'Chien', 'pas de nature', 'sombre'], ['42.jpg', 'Portrait', 'basse', 'Chien', 'pas de nature', 'sombre'], ['43.JPG', 'Paysage', 'moyenne', 'Chien', 'pas de nature', 'sombre'], ['45.jpg', 'Paysage', 'moyenne', 'Chien', 'pas de nature', 'sombre'], ['47.JPG', 'Paysage', 'moyenne', 'Chat', 'pas de nature', 'lumineux'], ['48.JPG', 'Portrait', 'basse', 'Chat', 'pas de nature', 'sombre'], ['49.jpg', 'Paysage', 'moyenne', 'Chat', 'pas de nature', 'lumineux'], ['5.jpg', 'Portrait', 'basse', 'Chat', 'pas de nature', 'sombre'], ['50.jpg', 'Paysage', 'basse', 'Chat', 'en nature', 'sombre'], ['51.jpg', 'Paysage', 'basse', 'Chat', 'pas de nature', 'lumineux'], ['52.jpg', 'Paysage', 'moyenne', 'Chien', 'pas de nature', 'lumineux'], ['53.jpg', 'Paysage', 'moyenne', 'Chien', 'pas de nature', 'sombre'], ['54.jpg', 'Paysage', 'basse', 'Chien', 'pas de nature', 'lumineux'], ['55.jpg', 'Portrait', 'moyenne', 'Chat', 'pas de nature', 'sombre'], ['56.jpg', 'Portrait', 'basse', 'Chien', 'pas de nature', 'lumineux'], ['57.jpg', 'Portrait', 'moyenne', 'Chien', 'en nature', 'lumineux'], ['60.jpg', 'Paysage', 'basse', 'Chien', 'pas de nature', 'sombre'], ['61.jpg', 'Paysage', 'basse', 'Chien', 'pas de nature', 'sombre'], ['63.jpg', 'Paysage', 'basse', 'Chien', 'pas de nature', 'sombre'], ['64.jpg', 'Portrait', 'basse', 'Chat', 'pas de nature', 'sombre'], ['65.jpg', 'Paysage', 'basse', 'Chat', 'pas de nature', 'sombre'], ['66.jpg', 'Portrait', 'haute', 'Chat', 'pas de nature', 'sombre'], ['67.JPG', 'Portrait', 'haute', 'Chat', 'pas de nature', 'lumineux'], ['69.jpg', 'Paysage', 'haute', 'Chat', 'pas de nature', 'sombre'], ['7.jpg', 'Carré', 'moyenne', 'Chien', 'pas de nature', 'lumineux'], ['70.jpg', 'Paysage', 'moyenne', 'Chien', 'en nature', 'sombre'], ['71.jpg', 'Paysage', 'moyenne', 'Chat', 'pas de nature', 'sombre'], ['72.jpg', 'Paysage', 'basse', 'Chien', 'pas de nature', 'lumineux'], ['73.jpg', 'Paysage', 'basse', 'Chat', 'en nature', 'lumineux'], ['74.jpg', 'Paysage', 'moyenne', 'Chien', 'pas de nature', 'lumineux'], ['76.png', 'Portrait', 'moyenne', 'Chien', 'en nature', 'sombre'], ['77.jpg', 'Paysage', 'moyenne', 'Unknown', 'en nature', 'sombre'], ['78.jpeg', 'Paysage', 'basse', 'Chat', 'en nature', 'lumineux'], ['79.jpg', 'Portrait', 'basse', 'Chat', 'pas de nature', 'lumineux'], ['8.jpg', 'Portrait', 'moyenne', 'Chat', 'pas de nature', 'sombre'], ['82.jpg', 'Paysage', 'haute', 'Chat', 'pas de nature', 'lumineux'], ['84.jpg', 'Paysage', 'haute', 'Chat', 'pas de nature', 'sombre'], ['85.JPG', 'Portrait', 'basse', 'Chat', 'pas de nature', 'sombre'], ['86.jpg', 'Paysage', 'moyenne', 'Chien', 'en nature', 'sombre'], ['87.jpg', 'Paysage', 'basse', 'Chat', 'pas de nature', 'lumineux'], ['89.jpg', 'Paysage', 'moyenne', 'Chien', 'pas de nature', 'sombre'], ['9.jpg', 'Paysage', 'haute', 'Chien', 'pas de nature', 'lumineux'], ['90.jpg', 'Paysage', 'moyenne', 'Chien', 'pas de nature', 'sombre'], ['91.jpg', 'Paysage', 'moyenne', 'Chien', 'pas de nature', 'sombre'], ['92.jpg', 'Portrait', 'moyenne', 'Chat', 'pas de nature', 'sombre'], ['93.jpg', 'Paysage', 'moyenne', 'Chat', 'pas de nature', 'sombre'], ['94.jpg', 'Paysage', 'moyenne', 'Chien', 'pas de nature', 'lumineux'], ['95.jpg', 'Paysage', 'moyenne', 'Chien', 'pas de nature', 'sombre'], ['96.jpg', 'Portrait', 'basse', 'Chat', 'pas de nature', 'lumineux'], ['97.jpg', 'Paysage', 'moyenne', 'Chien', 'pas de nature', 'sombre'], ['99.jpg', 'Paysage', 'moyenne', 'Chien', 'en nature', 'lumineux']]\n",
      "    nom_image orientation  qualite animal         nature luminosite\n",
      "0       1.jpg     Paysage  moyenne  Chien  pas de nature     sombre\n",
      "1      10.jpg    Portrait  moyenne   Chat  pas de nature   lumineux\n",
      "2     100.jpg     Paysage  moyenne  Chien  pas de nature   lumineux\n",
      "3     101.png    Portrait  moyenne   Chat  pas de nature     sombre\n",
      "5     103.jpg     Paysage    basse  Chien  pas de nature   lumineux\n",
      "..        ...         ...      ...    ...            ...        ...\n",
      "110    94.jpg     Paysage  moyenne  Chien  pas de nature   lumineux\n",
      "111    95.jpg     Paysage  moyenne  Chien  pas de nature     sombre\n",
      "112    96.jpg    Portrait    basse   Chat  pas de nature   lumineux\n",
      "113    97.jpg     Paysage  moyenne  Chien  pas de nature     sombre\n",
      "115    99.jpg     Paysage  moyenne  Chien      en nature   lumineux\n",
      "\n",
      "[96 rows x 6 columns]\n"
     ]
    }
   ],
   "source": [
    "print(\"longueur :\", len(data_list))\n",
    "print(data_list)\n",
    "print(data_list_filtered)\n",
    "print(dataframe_filtered)"
   ]
  },
  {
   "cell_type": "code",
   "execution_count": null,
   "metadata": {},
   "outputs": [
    {
     "name": "stdout",
     "output_type": "stream",
     "text": [
      "Recommended items:\n",
      "    nom_image orientation  qualite animal         nature luminosite  Cluster\n",
      "102    87.jpg     Paysage    basse   Chat  pas de nature   lumineux        1\n",
      "70     58.jpg     Paysage    basse  Chien  pas de nature     sombre        1\n",
      "83      7.jpg       Carré  moyenne  Chien  pas de nature   lumineux        1\n",
      "106    90.jpg     Paysage  moyenne  Chien  pas de nature     sombre        1\n",
      "Recommended items:\n",
      "   nom_image orientation  qualite animal         nature luminosite  Cluster\n",
      "18   115.jpg    Portrait    haute   Chat  pas de nature     sombre        0\n",
      "0      1.jpg     Paysage  moyenne  Chien  pas de nature     sombre        0\n",
      "20    12.JPG     Paysage  moyenne   Chat  pas de nature     sombre        0\n",
      "21    13.jpg       Carré    basse  Chien      en nature   lumineux        0\n",
      "Recommended items:\n",
      "    nom_image orientation  qualite animal         nature luminosite  Cluster\n",
      "114    98.JPG     Paysage  moyenne  Chien      en nature   lumineux        1\n",
      "71     59.jpg    Portrait    haute  Chien      en nature     sombre        1\n",
      "76     63.jpg     Paysage    basse  Chien  pas de nature     sombre        1\n",
      "84     70.jpg     Paysage  moyenne  Chien      en nature     sombre        1\n",
      "Recommended items:\n",
      "    nom_image orientation  qualite animal         nature luminosite  Cluster\n",
      "81     68.jpg     Paysage    basse  Chien  pas de nature     sombre        1\n",
      "97     82.jpg     Paysage    haute   Chat  pas de nature   lumineux        1\n",
      "113    97.jpg     Paysage  moyenne  Chien  pas de nature     sombre        1\n",
      "82     69.jpg     Paysage    haute   Chat  pas de nature     sombre        1\n",
      "Recommended items:\n",
      "    nom_image orientation  qualite animal         nature luminosite  Cluster\n",
      "88     74.jpg     Paysage  moyenne  Chien  pas de nature   lumineux        1\n",
      "111    95.jpg     Paysage  moyenne  Chien  pas de nature     sombre        1\n",
      "89     75.jpg     Paysage    basse  Chien      en nature     sombre        1\n",
      "104    89.jpg     Paysage  moyenne  Chien  pas de nature     sombre        1\n",
      "Recommended items:\n",
      "   nom_image orientation  qualite   animal         nature luminosite  Cluster\n",
      "76    63.jpg     Paysage    basse    Chien  pas de nature     sombre        1\n",
      "70    58.jpg     Paysage    basse    Chien  pas de nature     sombre        1\n",
      "89    75.jpg     Paysage    basse    Chien      en nature     sombre        1\n",
      "91    77.jpg     Paysage  moyenne  Unknown      en nature     sombre        1\n",
      "Recommended items:\n",
      "   nom_image orientation  qualite animal         nature luminosite  Cluster\n",
      "56    45.jpg     Paysage  moyenne  Chien  pas de nature     sombre        0\n",
      "10   108.jpg     Paysage  moyenne   Chat  pas de nature   lumineux        0\n",
      "51    40.jpg    Portrait    basse  Chien      en nature   lumineux        0\n",
      "15   112.jpg     Paysage    basse   Chat  pas de nature   lumineux        0\n",
      "Recommended items:\n",
      "   nom_image orientation  qualite animal         nature luminosite  Cluster\n",
      "7    105.jpg     Paysage  moyenne  Chien  pas de nature     sombre        0\n",
      "8    106.jpg    Portrait    basse   Chat  pas de nature     sombre        0\n",
      "35    26.jpg     Paysage    haute  Chien  pas de nature     sombre        0\n",
      "18   115.jpg    Portrait    haute   Chat  pas de nature     sombre        0\n",
      "Recommended items:\n",
      "   nom_image orientation  qualite animal         nature luminosite  Cluster\n",
      "19   116.jpg     Paysage    basse  Chien  pas de nature   lumineux        0\n",
      "30    21.jpg     Paysage  moyenne   Chat      en nature   lumineux        0\n",
      "5    103.jpg     Paysage    basse  Chien  pas de nature   lumineux        0\n",
      "20    12.JPG     Paysage  moyenne   Chat  pas de nature     sombre        0\n",
      "Recommended items:\n",
      "   nom_image orientation  qualite   animal         nature luminosite  Cluster\n",
      "23    15.jpg    Portrait  moyenne     Chat  pas de nature   lumineux        0\n",
      "50     4.jpg     Paysage    basse    Chien  pas de nature   lumineux        0\n",
      "28     2.jpg     Paysage  moyenne     Chat  pas de nature   lumineux        0\n",
      "26    18.JPG     Paysage  moyenne  Unknown      en nature     sombre        0\n"
     ]
    }
   ],
   "source": [
    "# Encode categorical features\n",
    "label_encoders = [LabelEncoder() for _ in range(len(data_list[0]))]\n",
    "encoded_data = []\n",
    "for i, column in enumerate(zip(*data_list)):\n",
    "    encoded_data.append(label_encoders[i].fit_transform(column))\n",
    "\n",
    "X = list(zip(*encoded_data))  # Features\n",
    "\n",
    "# Clustering\n",
    "k = 2  # Number of clusters\n",
    "kmeans = KMeans(n_clusters=k, n_init=10)\n",
    "kmeans.fit(X)\n",
    "clusters = kmeans.labels_\n",
    "\n",
    "# Add cluster labels to the original data\n",
    "data_with_clusters = pd.DataFrame(data_list, columns=[\"nom_image\", \"orientation\", \"qualite\", \"animal\", \"nature\", \"luminosite\"])\n",
    "data_with_clusters[\"Cluster\"] = clusters\n",
    "\n",
    "# Recommendation function\n",
    "def recommend_items(cluster, data_with_clusters, given_images):\n",
    "    items_in_cluster = data_with_clusters[data_with_clusters[\"Cluster\"] == cluster]\n",
    "    # Exclude favorite items from recommendations\n",
    "    items_in_cluster = items_in_cluster[~items_in_cluster[\"nom_image\"].isin(given_images)]\n",
    "    recommended_items = items_in_cluster.sample(n=4)  # Sample 4 items from the cluster\n",
    "    return recommended_items\n",
    "\n",
    "for img_fav in favorite_list:\n",
    "    # Encode user interaction\n",
    "    user_interaction = img_fav  # Assuming user interacted with this item\n",
    "    encoded_interaction = [label_encoders[i].transform([val])[0] for i, val in enumerate(user_interaction)]\n",
    "    cluster = kmeans.predict([encoded_interaction])[0]\n",
    "\n",
    "# Get recommendations\n",
    "recommendations = recommend_items(cluster, data_with_clusters, given_images)\n",
    "print(\"Recommended items:\")\n",
    "print(recommendations)"
   ]
  }
 ],
 "metadata": {
  "kernelspec": {
   "display_name": "env_msi",
   "language": "python",
   "name": "python3"
  },
  "language_info": {
   "codemirror_mode": {
    "name": "ipython",
    "version": 3
   },
   "file_extension": ".py",
   "mimetype": "text/x-python",
   "name": "python",
   "nbconvert_exporter": "python",
   "pygments_lexer": "ipython3",
   "version": "3.11.9"
  }
 },
 "nbformat": 4,
 "nbformat_minor": 2
}
