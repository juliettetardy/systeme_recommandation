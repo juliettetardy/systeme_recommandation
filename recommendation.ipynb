{
 "cells": [
  {
   "cell_type": "markdown",
   "metadata": {},
   "source": [
    "# Recommendation"
   ]
  },
  {
   "cell_type": "markdown",
   "metadata": {},
   "source": [
    "Approche choisie pour créer un système de recommandation : Algorithme de clustering"
   ]
  },
  {
   "cell_type": "code",
   "execution_count": 2,
   "metadata": {},
   "outputs": [],
   "source": [
    "from sklearn.cluster import KMeans\n",
    "from sklearn.preprocessing import LabelEncoder\n",
    "import pandas as pd\n",
    "import json"
   ]
  },
  {
   "cell_type": "markdown",
   "metadata": {},
   "source": [
    "Récupère les données des images favorites de l'utilisateur"
   ]
  },
  {
   "cell_type": "code",
   "execution_count": 108,
   "metadata": {},
   "outputs": [],
   "source": [
    "# Charge les données du fichier JSON\n",
    "with open(\"profil.json\", \"r\", encoding=\"utf-8\") as file:\n",
    "    json_data = json.load(file)\n",
    "\n",
    "# Extrait les données et les résultats\n",
    "data = json_data[\"data\"]  \n",
    "result = json_data[\"resultats\"]  \n",
    "\n",
    "# Crée le DataFrame\n",
    "dataframe = pd.DataFrame(data, columns=[\"orientation\", \"qualité\", \"animal\", \"nature\", \"luminosité\"])\n",
    "\n",
    "# Ajoute la colonne des résultats\n",
    "dataframe['result'] = result\n",
    "\n",
    "# Filtre les données pour ne garder que les images favorites\n",
    "df_favorite = dataframe[dataframe['result'] == 'Favorite']\n",
    "\n",
    "# Supprime la colonne 'result' après le filtrage\n",
    "df_favorite = df_favorite.drop(columns=[\"result\"])\n",
    "\n",
    "# Convertit le DataFrame en une liste\n",
    "favorite_list = df_favorite.values.tolist()"
   ]
  },
  {
   "cell_type": "code",
   "execution_count": 109,
   "metadata": {},
   "outputs": [
    {
     "name": "stdout",
     "output_type": "stream",
     "text": [
      "longueur : 5\n",
      "[['Paysage', 'basse', 'Chien', 'en nature', 'sombre'], ['Paysage', 'moyenne', 'Chien', 'en nature', 'lumineux'], ['Paysage', 'haute', 'Chien', 'en nature', 'sombre'], ['Paysage', 'moyenne', 'Chien', 'en nature', 'sombre'], ['Paysage', 'basse', 'Unknown', 'pas de nature', 'sombre']]\n",
      "   orientation  qualité   animal         nature luminosité\n",
      "2      Paysage    basse    Chien      en nature     sombre\n",
      "9      Paysage  moyenne    Chien      en nature   lumineux\n",
      "14     Paysage    haute    Chien      en nature     sombre\n",
      "16     Paysage  moyenne    Chien      en nature     sombre\n",
      "18     Paysage    basse  Unknown  pas de nature     sombre\n"
     ]
    }
   ],
   "source": [
    "print(\"longueur :\", len(df_favorite))\n",
    "print(favorite_list)\n",
    "print(df_favorite)"
   ]
  },
  {
   "cell_type": "markdown",
   "metadata": {},
   "source": [
    "Récupère les données de toutes les images existantes et enlève les 20 images proposées à l'utilisateur"
   ]
  },
  {
   "cell_type": "code",
   "execution_count": 111,
   "metadata": {},
   "outputs": [],
   "source": [
    "# Charge les données du fichier JSON\n",
    "with open(\"profil.json\", \"r\", encoding=\"utf-8\") as file:\n",
    "    json_data = json.load(file)\n",
    "\n",
    "# Récupérer la liste des chemins des images\n",
    "img_paths = json_data[\"images\"]"
   ]
  },
  {
   "cell_type": "code",
   "execution_count": 112,
   "metadata": {},
   "outputs": [],
   "source": [
    "# Charge les données du fichier JSON\n",
    "with open(\"etiquetage.json\", \"r\", encoding=\"utf-8\") as file:\n",
    "    json_data = json.load(file)\n",
    "\n",
    "# Crée le DataFrame\n",
    "dataframe = pd.DataFrame(json_data, columns=[\"nom_image\", \"orientation\", \"qualité\", \"animal\", \"nature\", \"luminosité\"])\n",
    "\n",
    "# Filtrer les données pour exclure les images spécifiées\n",
    "dataframe_filtered = dataframe[~dataframe[\"nom_image\"].isin(img_paths)]\n",
    "\n",
    "# Supprime la colonne 'nom_image' après le filtrage\n",
    "dataframe_filtered = dataframe_filtered.drop(columns=[\"nom_image\"])\n",
    "\n",
    "# Convertit le DataFrame en une liste\n",
    "data_list = dataframe_filtered.values.tolist()"
   ]
  },
  {
   "cell_type": "code",
   "execution_count": 114,
   "metadata": {},
   "outputs": [
    {
     "name": "stdout",
     "output_type": "stream",
     "text": [
      "longueur : 96\n",
      "[['Paysage', 'moyenne', 'Chien', 'pas de nature', 'sombre'], ['Portrait', 'moyenne', 'Chat', 'pas de nature', 'lumineux'], ['Paysage', 'moyenne', 'Chien', 'pas de nature', 'lumineux'], ['Portrait', 'basse', 'Chat', 'pas de nature', 'sombre'], ['Paysage', 'haute', 'Chien', 'pas de nature', 'sombre'], ['Paysage', 'basse', 'Chien', 'pas de nature', 'lumineux'], ['Paysage', 'basse', 'Chien', 'pas de nature', 'sombre'], ['Portrait', 'basse', 'Chat', 'pas de nature', 'sombre'], ['Portrait', 'basse', 'Chat', 'pas de nature', 'lumineux'], ['Paysage', 'moyenne', 'Chat', 'pas de nature', 'lumineux'], ['Paysage', 'moyenne', 'Chat', 'en nature', 'lumineux'], ['Paysage', 'moyenne', 'Chat', 'pas de nature', 'sombre'], ['Portrait', 'basse', 'Chat', 'pas de nature', 'lumineux'], ['Portrait', 'basse', 'Chien', 'pas de nature', 'sombre'], ['Paysage', 'basse', 'Chat', 'pas de nature', 'lumineux'], ['Paysage', 'haute', 'Chat', 'pas de nature', 'sombre'], ['Paysage', 'moyenne', 'Chien', 'pas de nature', 'sombre'], ['Portrait', 'moyenne', 'Chat', 'pas de nature', 'sombre'], ['Paysage', 'basse', 'Chien', 'pas de nature', 'lumineux'], ['Paysage', 'basse', 'Chat', 'pas de nature', 'sombre'], ['Carré', 'basse', 'Chien', 'en nature', 'lumineux'], ['Portrait', 'basse', 'Chien', 'pas de nature', 'sombre'], ['Carré', 'basse', 'Chien', 'pas de nature', 'sombre'], ['Paysage', 'basse', 'Chat', 'pas de nature', 'sombre'], ['Paysage', 'moyenne', 'Chat', 'pas de nature', 'lumineux'], ['Paysage', 'moyenne', 'Chien', 'pas de nature', 'lumineux'], ['Paysage', 'basse', 'Chat', 'en nature', 'lumineux'], ['Paysage', 'haute', 'Chat', 'pas de nature', 'sombre'], ['Portrait', 'basse', 'Chat', 'pas de nature', 'sombre'], ['Portrait', 'moyenne', 'Chien', 'pas de nature', 'sombre'], ['Paysage', 'basse', 'Chat', 'pas de nature', 'lumineux'], ['Paysage', 'moyenne', 'Chien', 'pas de nature', 'sombre'], ['Paysage', 'basse', 'Chien', 'pas de nature', 'lumineux'], ['Portrait', 'moyenne', 'Chat', 'pas de nature', 'lumineux'], ['Paysage', 'basse', 'Chien', 'en nature', 'sombre'], ['Paysage', 'basse', 'Chien', 'pas de nature', 'sombre'], ['Portrait', 'haute', 'Chat', 'en nature', 'lumineux'], ['Portrait', 'moyenne', 'Chat', 'pas de nature', 'sombre'], ['Paysage', 'basse', 'Chien', 'pas de nature', 'lumineux'], ['Paysage', 'basse', 'Chien', 'en nature', 'sombre'], ['Portrait', 'basse', 'Chat', 'pas de nature', 'sombre'], ['Paysage', 'basse', 'Chien', 'pas de nature', 'sombre'], ['Portrait', 'moyenne', 'Chat', 'en nature', 'lumineux'], ['Portrait', 'basse', 'Chien', 'en nature', 'sombre'], ['Paysage', 'basse', 'Chien', 'en nature', 'sombre'], ['Paysage', 'basse', 'Chien', 'pas de nature', 'lumineux'], ['Portrait', 'basse', 'Chien', 'en nature', 'lumineux'], ['Paysage', 'basse', 'Chien', 'pas de nature', 'sombre'], ['Portrait', 'basse', 'Chien', 'pas de nature', 'sombre'], ['Paysage', 'moyenne', 'Chien', 'pas de nature', 'sombre'], ['Paysage', 'basse', 'Chat', 'pas de nature', 'lumineux'], ['Paysage', 'moyenne', 'Chat', 'pas de nature', 'lumineux'], ['Portrait', 'basse', 'Chat', 'pas de nature', 'sombre'], ['Paysage', 'basse', 'Chat', 'en nature', 'sombre'], ['Paysage', 'basse', 'Chat', 'pas de nature', 'lumineux'], ['Paysage', 'basse', 'Chien', 'pas de nature', 'sombre'], ['Paysage', 'basse', 'Chien', 'pas de nature', 'lumineux'], ['Portrait', 'basse', 'Chat', 'pas de nature', 'sombre'], ['Portrait', 'basse', 'Chien', 'pas de nature', 'lumineux'], ['Portrait', 'basse', 'Chien', 'en nature', 'lumineux'], ['Portrait', 'haute', 'Chien', 'en nature', 'sombre'], ['Paysage', 'basse', 'Chien', 'pas de nature', 'sombre'], ['Paysage', 'basse', 'Chien', 'pas de nature', 'sombre'], ['Portrait', 'basse', 'Chat', 'pas de nature', 'sombre'], ['Paysage', 'basse', 'Chat', 'pas de nature', 'sombre'], ['Portrait', 'haute', 'Chat', 'pas de nature', 'sombre'], ['Portrait', 'haute', 'Chat', 'pas de nature', 'lumineux'], ['Paysage', 'basse', 'Chien', 'pas de nature', 'sombre'], ['Paysage', 'haute', 'Chat', 'pas de nature', 'sombre'], ['Paysage', 'basse', 'Chien', 'en nature', 'sombre'], ['Paysage', 'basse', 'Chien', 'pas de nature', 'lumineux'], ['Paysage', 'basse', 'Chat', 'en nature', 'lumineux'], ['Paysage', 'basse', 'Chien', 'pas de nature', 'lumineux'], ['Paysage', 'basse', 'Chien', 'en nature', 'sombre'], ['Portrait', 'basse', 'Chien', 'en nature', 'sombre'], ['Paysage', 'basse', 'Unknown', 'en nature', 'sombre'], ['Paysage', 'basse', 'Chat', 'en nature', 'lumineux'], ['Portrait', 'basse', 'Chat', 'pas de nature', 'lumineux'], ['Portrait', 'basse', 'Chat', 'pas de nature', 'lumineux'], ['Paysage', 'basse', 'Chien', 'pas de nature', 'lumineux'], ['Paysage', 'basse', 'Chat', 'pas de nature', 'sombre'], ['Paysage', 'moyenne', 'Chat', 'pas de nature', 'sombre'], ['Portrait', 'basse', 'Chat', 'pas de nature', 'sombre'], ['Paysage', 'moyenne', 'Chien', 'en nature', 'sombre'], ['Paysage', 'basse', 'Chat', 'pas de nature', 'lumineux'], ['Portrait', 'basse', 'Chat', 'pas de nature', 'sombre'], ['Paysage', 'basse', 'Chien', 'pas de nature', 'sombre'], ['Paysage', 'haute', 'Chien', 'pas de nature', 'lumineux'], ['Paysage', 'basse', 'Chien', 'pas de nature', 'sombre'], ['Portrait', 'moyenne', 'Chat', 'pas de nature', 'sombre'], ['Paysage', 'moyenne', 'Chat', 'pas de nature', 'sombre'], ['Paysage', 'basse', 'Chien', 'pas de nature', 'lumineux'], ['Paysage', 'basse', 'Chien', 'pas de nature', 'sombre'], ['Portrait', 'basse', 'Chat', 'pas de nature', 'lumineux'], ['Paysage', 'moyenne', 'Chien', 'pas de nature', 'sombre'], ['Paysage', 'moyenne', 'Chien', 'en nature', 'lumineux']]\n",
      "    orientation  qualité animal         nature luminosité\n",
      "0       Paysage  moyenne  Chien  pas de nature     sombre\n",
      "1      Portrait  moyenne   Chat  pas de nature   lumineux\n",
      "2       Paysage  moyenne  Chien  pas de nature   lumineux\n",
      "3      Portrait    basse   Chat  pas de nature     sombre\n",
      "4       Paysage    haute  Chien  pas de nature     sombre\n",
      "..          ...      ...    ...            ...        ...\n",
      "110     Paysage    basse  Chien  pas de nature   lumineux\n",
      "111     Paysage    basse  Chien  pas de nature     sombre\n",
      "112    Portrait    basse   Chat  pas de nature   lumineux\n",
      "113     Paysage  moyenne  Chien  pas de nature     sombre\n",
      "115     Paysage  moyenne  Chien      en nature   lumineux\n",
      "\n",
      "[96 rows x 5 columns]\n"
     ]
    }
   ],
   "source": [
    "print(\"longueur :\", len(data_list))\n",
    "print(data_list)\n",
    "print(dataframe_filtered)"
   ]
  },
  {
   "cell_type": "code",
   "execution_count": 115,
   "metadata": {},
   "outputs": [
    {
     "name": "stdout",
     "output_type": "stream",
     "text": [
      "Recommended items:\n",
      "   orientation qualité animal         nature luminosité  Cluster\n",
      "44     Paysage   basse  Chien      en nature     sombre        0\n",
      "86     Paysage   basse  Chien  pas de nature     sombre        0\n",
      "54     Paysage   basse   Chat  pas de nature   lumineux        0\n",
      "46    Portrait   basse  Chien      en nature   lumineux        0\n"
     ]
    }
   ],
   "source": [
    "# Encode categorical features\n",
    "label_encoders = [LabelEncoder() for _ in range(len(data_list[0]))]\n",
    "encoded_data = []\n",
    "for i, column in enumerate(zip(*data_list)):\n",
    "    encoded_data.append(label_encoders[i].fit_transform(column))\n",
    "\n",
    "X = list(zip(*encoded_data))  # Features\n",
    "\n",
    "# Clustering\n",
    "k = 2  # Number of clusters\n",
    "kmeans = KMeans(n_clusters=k, n_init=10)\n",
    "kmeans.fit(X)\n",
    "clusters = kmeans.labels_\n",
    "\n",
    "# Add cluster labels to the original data\n",
    "data_with_clusters = pd.DataFrame(data_list, columns=[\"orientation\", \"qualité\", \"animal\", \"nature\", \"luminosité\"])\n",
    "data_with_clusters[\"Cluster\"] = clusters\n",
    "\n",
    "# Recommendation function\n",
    "def recommend_items(cluster, data_with_clusters):\n",
    "    items_in_cluster = data_with_clusters[data_with_clusters[\"Cluster\"] == cluster]\n",
    "    recommended_items = items_in_cluster.sample(n=4)  # Sample 3 items from the cluster\n",
    "    return recommended_items\n",
    "\n",
    "user_interaction = favorite_list[0]  # Assuming user interacted with this item\n",
    "encoded_interaction = [label_encoders[i].transform([val])[0] for i, val in enumerate(user_interaction)]\n",
    "cluster = kmeans.predict([encoded_interaction])[0]\n",
    "recommendations = recommend_items(cluster, data_with_clusters)\n",
    "print(\"Recommended items:\")\n",
    "print(recommendations)"
   ]
  }
 ],
 "metadata": {
  "kernelspec": {
   "display_name": "env_msi",
   "language": "python",
   "name": "python3"
  },
  "language_info": {
   "codemirror_mode": {
    "name": "ipython",
    "version": 3
   },
   "file_extension": ".py",
   "mimetype": "text/x-python",
   "name": "python",
   "nbconvert_exporter": "python",
   "pygments_lexer": "ipython3",
   "version": "3.11.9"
  }
 },
 "nbformat": 4,
 "nbformat_minor": 2
}
