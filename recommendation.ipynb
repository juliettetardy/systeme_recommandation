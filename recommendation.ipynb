{
 "cells": [
  {
   "cell_type": "markdown",
   "metadata": {},
   "source": [
    "# Recommendation"
   ]
  },
  {
   "cell_type": "markdown",
   "metadata": {},
   "source": [
    "Approche choisie pour créer un système de recommandation : Algorithme de clustering"
   ]
  },
  {
   "cell_type": "code",
   "execution_count": 2,
   "metadata": {},
   "outputs": [],
   "source": [
    "from sklearn.cluster import KMeans\n",
    "from sklearn.preprocessing import LabelEncoder\n",
    "import pandas as pd\n",
    "import json"
   ]
  },
  {
   "cell_type": "markdown",
   "metadata": {},
   "source": [
    "Récupère les données des images favorites de l'utilisateur"
   ]
  },
  {
   "cell_type": "code",
   "execution_count": 108,
   "metadata": {},
   "outputs": [],
   "source": [
    "# Charge les données du fichier JSON\n",
    "with open(\"profil.json\", \"r\", encoding=\"utf-8\") as file:\n",
    "    json_data = json.load(file)\n",
    "\n",
    "# Extrait les données et les résultats\n",
    "data = json_data[\"data\"]  \n",
    "result = json_data[\"resultats\"]  \n",
    "\n",
    "# Crée le DataFrame\n",
    "dataframe = pd.DataFrame(data, columns=[\"orientation\", \"qualité\", \"animal\", \"nature\", \"luminosité\"])\n",
    "\n",
    "# Ajoute la colonne des résultats\n",
    "dataframe['result'] = result\n",
    "\n",
    "# Filtre les données pour ne garder que les images favorites\n",
    "df_favorite = dataframe[dataframe['result'] == 'Favorite']\n",
    "\n",
    "# Supprime la colonne 'result' après le filtrage\n",
    "df_favorite = df_favorite.drop(columns=[\"result\"])\n",
    "\n",
    "# Convertit le DataFrame en une liste\n",
    "favorite_list = df_favorite.values.tolist()"
   ]
  },
  {
   "cell_type": "code",
   "execution_count": 109,
   "metadata": {},
   "outputs": [
    {
     "name": "stdout",
     "output_type": "stream",
     "text": [
      "longueur : 5\n",
      "[['Paysage', 'basse', 'Chien', 'en nature', 'sombre'], ['Paysage', 'moyenne', 'Chien', 'en nature', 'lumineux'], ['Paysage', 'haute', 'Chien', 'en nature', 'sombre'], ['Paysage', 'moyenne', 'Chien', 'en nature', 'sombre'], ['Paysage', 'basse', 'Unknown', 'pas de nature', 'sombre']]\n",
      "   orientation  qualité   animal         nature luminosité\n",
      "2      Paysage    basse    Chien      en nature     sombre\n",
      "9      Paysage  moyenne    Chien      en nature   lumineux\n",
      "14     Paysage    haute    Chien      en nature     sombre\n",
      "16     Paysage  moyenne    Chien      en nature     sombre\n",
      "18     Paysage    basse  Unknown  pas de nature     sombre\n"
     ]
    }
   ],
   "source": [
    "print(\"longueur :\", len(df_favorite))\n",
    "print(favorite_list)\n",
    "print(df_favorite)"
   ]
  },
  {
   "cell_type": "markdown",
   "metadata": {},
   "source": [
    "Récupère les données de toutes les images existantes et enlève les 20 images proposées à l'utilisateur"
   ]
  },
  {
   "cell_type": "code",
   "execution_count": 111,
   "metadata": {},
   "outputs": [],
   "source": [
    "# Charge les données du fichier JSON\n",
    "with open(\"profil.json\", \"r\", encoding=\"utf-8\") as file:\n",
    "    json_data = json.load(file)\n",
    "\n",
    "# Récupérer la liste des chemins des images\n",
    "img_paths = json_data[\"images\"]"
   ]
  },
  {
   "cell_type": "code",
   "execution_count": 116,
   "metadata": {},
   "outputs": [],
   "source": [
    "# Charge les données du fichier JSON\n",
    "with open(\"etiquetage.json\", \"r\", encoding=\"utf-8\") as file:\n",
    "    json_data = json.load(file)\n",
    "\n",
    "# Crée le DataFrame\n",
    "dataframe = pd.DataFrame(json_data, columns=[\"nom_image\", \"orientation\", \"qualité\", \"animal\", \"nature\", \"luminosité\"])\n",
    "\n",
    "# Filtrer les données pour exclure les images spécifiées\n",
    "dataframe_filtered = dataframe[~dataframe[\"nom_image\"].isin(img_paths)]\n",
    "\n",
    "# Supprime la colonne 'nom_image' après le filtrage\n",
    "#dataframe_filtered = dataframe_filtered.drop(columns=[\"nom_image\"])\n",
    "\n",
    "# Convertit le DataFrame en une liste\n",
    "data_list = dataframe_filtered.values.tolist()"
   ]
  },
  {
   "cell_type": "code",
   "execution_count": 117,
   "metadata": {},
   "outputs": [
    {
     "name": "stdout",
     "output_type": "stream",
     "text": [
      "longueur : 96\n",
      "[['1.jpg', 'Paysage', nan, 'Chien', nan, nan], ['10.jpg', 'Portrait', nan, 'Chat', nan, nan], ['100.jpg', 'Paysage', nan, 'Chien', nan, nan], ['101.png', 'Portrait', nan, 'Chat', nan, nan], ['102.jpg', 'Paysage', nan, 'Chien', nan, nan], ['103.jpg', 'Paysage', nan, 'Chien', nan, nan], ['105.jpg', 'Paysage', nan, 'Chien', nan, nan], ['106.jpg', 'Portrait', nan, 'Chat', nan, nan], ['107.jpg', 'Portrait', nan, 'Chat', nan, nan], ['108.jpg', 'Paysage', nan, 'Chat', nan, nan], ['109.jpg', 'Paysage', nan, 'Chat', nan, nan], ['11.jpg', 'Paysage', nan, 'Chat', nan, nan], ['110.jpg', 'Portrait', nan, 'Chat', nan, nan], ['111.jpg', 'Portrait', nan, 'Chien', nan, nan], ['112.jpg', 'Paysage', nan, 'Chat', nan, nan], ['113.jpg', 'Paysage', nan, 'Chat', nan, nan], ['114.jpg', 'Paysage', nan, 'Chien', nan, nan], ['115.jpg', 'Portrait', nan, 'Chat', nan, nan], ['116.jpg', 'Paysage', nan, 'Chien', nan, nan], ['12.JPG', 'Paysage', nan, 'Chat', nan, nan], ['13.jpg', 'Carré', nan, 'Chien', nan, nan], ['14.jpg', 'Portrait', nan, 'Chien', nan, nan], ['17.jpg', 'Carré', nan, 'Chien', nan, nan], ['19.jpg', 'Paysage', nan, 'Chat', nan, nan], ['2.jpg', 'Paysage', nan, 'Chat', nan, nan], ['20.jpg', 'Paysage', nan, 'Chien', nan, nan], ['21.jpg', 'Paysage', nan, 'Chat', nan, nan], ['22.jpg', 'Paysage', nan, 'Chat', nan, nan], ['23.png', 'Portrait', nan, 'Chat', nan, nan], ['24.jpg', 'Portrait', nan, 'Chien', nan, nan], ['25.JPG', 'Paysage', nan, 'Chat', nan, nan], ['26.jpg', 'Paysage', nan, 'Chien', nan, nan], ['27.jpg', 'Paysage', nan, 'Chien', nan, nan], ['29.JPG', 'Portrait', nan, 'Chat', nan, nan], ['3.jpg', 'Paysage', nan, 'Chien', nan, nan], ['30.jpg', 'Paysage', nan, 'Chien', nan, nan], ['31.jpg', 'Portrait', nan, 'Chat', nan, nan], ['32.jpg', 'Portrait', nan, 'Chat', nan, nan], ['33.jpg', 'Paysage', nan, 'Chien', nan, nan], ['34.jpg', 'Paysage', nan, 'Chien', nan, nan], ['35.JPG', 'Portrait', nan, 'Chat', nan, nan], ['36.jpg', 'Paysage', nan, 'Chien', nan, nan], ['37.jpeg', 'Portrait', nan, 'Chat', nan, nan], ['38.jpg', 'Portrait', nan, 'Chien', nan, nan], ['39.jpg', 'Paysage', nan, 'Chien', nan, nan], ['4.jpg', 'Paysage', nan, 'Chien', nan, nan], ['40.jpg', 'Portrait', nan, 'Chien', nan, nan], ['41.jpg', 'Paysage', nan, 'Chien', nan, nan], ['42.jpg', 'Portrait', nan, 'Chien', nan, nan], ['44.jpg', 'Paysage', nan, 'Chien', nan, nan], ['47.JPG', 'Paysage', nan, 'Chat', nan, nan], ['49.jpg', 'Paysage', nan, 'Chat', nan, nan], ['5.jpg', 'Portrait', nan, 'Chat', nan, nan], ['50.jpg', 'Paysage', nan, 'Chat', nan, nan], ['51.jpg', 'Paysage', nan, 'Chat', nan, nan], ['53.jpg', 'Paysage', nan, 'Chien', nan, nan], ['54.jpg', 'Paysage', nan, 'Chien', nan, nan], ['55.jpg', 'Portrait', nan, 'Chat', nan, nan], ['56.jpg', 'Portrait', nan, 'Chien', nan, nan], ['57.jpg', 'Portrait', nan, 'Chien', nan, nan], ['59.jpg', 'Portrait', nan, 'Chien', nan, nan], ['60.jpg', 'Paysage', nan, 'Chien', nan, nan], ['63.jpg', 'Paysage', nan, 'Chien', nan, nan], ['64.jpg', 'Portrait', nan, 'Chat', nan, nan], ['65.jpg', 'Paysage', nan, 'Chat', nan, nan], ['66.jpg', 'Portrait', nan, 'Chat', nan, nan], ['67.JPG', 'Portrait', nan, 'Chat', nan, nan], ['68.jpg', 'Paysage', nan, 'Chien', nan, nan], ['69.jpg', 'Paysage', nan, 'Chat', nan, nan], ['70.jpg', 'Paysage', nan, 'Chien', nan, nan], ['72.jpg', 'Paysage', nan, 'Chien', nan, nan], ['73.jpg', 'Paysage', nan, 'Chat', nan, nan], ['74.jpg', 'Paysage', nan, 'Chien', nan, nan], ['75.jpg', 'Paysage', nan, 'Chien', nan, nan], ['76.png', 'Portrait', nan, 'Chien', nan, nan], ['77.jpg', 'Paysage', nan, 'Unknown', nan, nan], ['78.jpeg', 'Paysage', nan, 'Chat', nan, nan], ['79.jpg', 'Portrait', nan, 'Chat', nan, nan], ['80.jpg', 'Portrait', nan, 'Chat', nan, nan], ['81.jpg', 'Paysage', nan, 'Chien', nan, nan], ['83.JPG', 'Paysage', nan, 'Chat', nan, nan], ['84.jpg', 'Paysage', nan, 'Chat', nan, nan], ['85.JPG', 'Portrait', nan, 'Chat', nan, nan], ['86.jpg', 'Paysage', nan, 'Chien', nan, nan], ['87.jpg', 'Paysage', nan, 'Chat', nan, nan], ['88.jpg', 'Portrait', nan, 'Chat', nan, nan], ['89.jpg', 'Paysage', nan, 'Chien', nan, nan], ['9.jpg', 'Paysage', nan, 'Chien', nan, nan], ['91.jpg', 'Paysage', nan, 'Chien', nan, nan], ['92.jpg', 'Portrait', nan, 'Chat', nan, nan], ['93.jpg', 'Paysage', nan, 'Chat', nan, nan], ['94.jpg', 'Paysage', nan, 'Chien', nan, nan], ['95.jpg', 'Paysage', nan, 'Chien', nan, nan], ['96.jpg', 'Portrait', nan, 'Chat', nan, nan], ['97.jpg', 'Paysage', nan, 'Chien', nan, nan], ['99.jpg', 'Paysage', nan, 'Chien', nan, nan]]\n",
      "    nom_image orientation  qualité animal  nature  luminosité\n",
      "0       1.jpg     Paysage      NaN  Chien     NaN         NaN\n",
      "1      10.jpg    Portrait      NaN   Chat     NaN         NaN\n",
      "2     100.jpg     Paysage      NaN  Chien     NaN         NaN\n",
      "3     101.png    Portrait      NaN   Chat     NaN         NaN\n",
      "4     102.jpg     Paysage      NaN  Chien     NaN         NaN\n",
      "..        ...         ...      ...    ...     ...         ...\n",
      "110    94.jpg     Paysage      NaN  Chien     NaN         NaN\n",
      "111    95.jpg     Paysage      NaN  Chien     NaN         NaN\n",
      "112    96.jpg    Portrait      NaN   Chat     NaN         NaN\n",
      "113    97.jpg     Paysage      NaN  Chien     NaN         NaN\n",
      "115    99.jpg     Paysage      NaN  Chien     NaN         NaN\n",
      "\n",
      "[96 rows x 6 columns]\n"
     ]
    }
   ],
   "source": [
    "print(\"longueur :\", len(data_list))\n",
    "print(data_list)\n",
    "print(dataframe_filtered)"
   ]
  },
  {
   "cell_type": "code",
   "execution_count": 115,
   "metadata": {},
   "outputs": [
    {
     "name": "stdout",
     "output_type": "stream",
     "text": [
      "Recommended items:\n",
      "   orientation qualité animal         nature luminosité  Cluster\n",
      "44     Paysage   basse  Chien      en nature     sombre        0\n",
      "86     Paysage   basse  Chien  pas de nature     sombre        0\n",
      "54     Paysage   basse   Chat  pas de nature   lumineux        0\n",
      "46    Portrait   basse  Chien      en nature   lumineux        0\n"
     ]
    }
   ],
   "source": [
    "# Encode categorical features\n",
    "label_encoders = [LabelEncoder() for _ in range(len(data_list[0]))]\n",
    "encoded_data = []\n",
    "for i, column in enumerate(zip(*data_list)):\n",
    "    encoded_data.append(label_encoders[i].fit_transform(column))\n",
    "\n",
    "X = list(zip(*encoded_data))  # Features\n",
    "\n",
    "# Clustering\n",
    "k = 2  # Number of clusters\n",
    "kmeans = KMeans(n_clusters=k, n_init=10)\n",
    "kmeans.fit(X)\n",
    "clusters = kmeans.labels_\n",
    "\n",
    "# Add cluster labels to the original data\n",
    "data_with_clusters = pd.DataFrame(data_list, columns=[\"orientation\", \"qualité\", \"animal\", \"nature\", \"luminosité\"])\n",
    "data_with_clusters[\"Cluster\"] = clusters\n",
    "\n",
    "# Recommendation function\n",
    "def recommend_items(cluster, data_with_clusters):\n",
    "    items_in_cluster = data_with_clusters[data_with_clusters[\"Cluster\"] == cluster]\n",
    "    recommended_items = items_in_cluster.sample(n=4)  # Sample 3 items from the cluster\n",
    "    return recommended_items\n",
    "\n",
    "user_interaction = favorite_list[0]  # Assuming user interacted with this item\n",
    "encoded_interaction = [label_encoders[i].transform([val])[0] for i, val in enumerate(user_interaction)]\n",
    "cluster = kmeans.predict([encoded_interaction])[0]\n",
    "recommendations = recommend_items(cluster, data_with_clusters)\n",
    "print(\"Recommended items:\")\n",
    "print(recommendations)"
   ]
  }
 ],
 "metadata": {
  "kernelspec": {
   "display_name": "env_msi",
   "language": "python",
   "name": "python3"
  },
  "language_info": {
   "codemirror_mode": {
    "name": "ipython",
    "version": 3
   },
   "file_extension": ".py",
   "mimetype": "text/x-python",
   "name": "python",
   "nbconvert_exporter": "python",
   "pygments_lexer": "ipython3",
   "version": "3.11.9"
  }
 },
 "nbformat": 4,
 "nbformat_minor": 2
}
