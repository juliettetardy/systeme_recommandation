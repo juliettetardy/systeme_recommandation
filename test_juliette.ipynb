{
 "cells": [
  {
   "cell_type": "code",
   "execution_count": 3,
   "metadata": {},
   "outputs": [
    {
     "name": "stdout",
     "output_type": "stream",
     "text": [
      "\u001b[1m1/1\u001b[0m \u001b[32m━━━━━━━━━━━━━━━━━━━━\u001b[0m\u001b[37m\u001b[0m \u001b[1m1s\u001b[0m 967ms/step\n",
      "Classe prédite : Eskimo_dog (0.26)\n",
      "C'est un chien ! 🐶\n"
     ]
    }
   ],
   "source": [
    "import tensorflow as tf\n",
    "import numpy as np\n",
    "from tensorflow.keras.applications.mobilenet_v2 import MobileNetV2, preprocess_input, decode_predictions\n",
    "from PIL import Image\n",
    "\n",
    "# Charger MobileNetV2 pré-entraîné\n",
    "model = MobileNetV2(weights=\"imagenet\")\n",
    "\n",
    "# Charger une image et la préparer\n",
    "def prepare_image(image_path):\n",
    "    image = Image.open(image_path).resize((224, 224))  # Redimensionner\n",
    "    image_array = np.array(image)\n",
    "    image_array = np.expand_dims(image_array, axis=0)  # Ajouter une dimension batch\n",
    "    image_array = preprocess_input(image_array)  # Normalisation spécifique à MobileNet\n",
    "    return image_array\n",
    "\n",
    "# Liste des catégories ImageNet correspondant à \"chien\" ou \"chat\"\n",
    "dog_labels = [\"dog\", \"puppy\", \"wolf\", \"coyote\", \"fox\"]  # Mots-clés liés aux chiens\n",
    "cat_labels = [\"cat\", \"kitten\", \"tiger\", \"lynx\", \"leopard\"]  # Mots-clés liés aux chats\n",
    "\n",
    "# Prédire sur une image\n",
    "image_path = \"images/618736210a13.jpg\"  # Remplace par ton image\n",
    "image_array = prepare_image(image_path)\n",
    "predictions = model.predict(image_array)\n",
    "\n",
    "# Décoder les prédictions\n",
    "decoded_predictions = decode_predictions(predictions, top=5)  # Prendre les 5 meilleures prédictions\n",
    "\n",
    "# Vérifier si l'une des prédictions contient un mot clé lié à \"chien\" ou \"chat\"\n",
    "for (_, label, score) in decoded_predictions[0]:\n",
    "    print(f\"Classe prédite : {label} ({score:.2f})\")\n",
    "    if any(dog_word in label.lower() for dog_word in dog_labels):\n",
    "        print(\"C'est un chien ! 🐶\")\n",
    "        break\n",
    "    elif any(cat_word in label.lower() for cat_word in cat_labels):\n",
    "        print(\"C'est un chat ! 🐱\")\n",
    "        break\n",
    "else:\n",
    "    print(\"L'image ne semble pas être un chien ou un chat.\")\n"
   ]
  }
 ],
 "metadata": {
  "kernelspec": {
   "display_name": "env_msi",
   "language": "python",
   "name": "python3"
  },
  "language_info": {
   "codemirror_mode": {
    "name": "ipython",
    "version": 3
   },
   "file_extension": ".py",
   "mimetype": "text/x-python",
   "name": "python",
   "nbconvert_exporter": "python",
   "pygments_lexer": "ipython3",
   "version": "3.11.9"
  }
 },
 "nbformat": 4,
 "nbformat_minor": 2
}
