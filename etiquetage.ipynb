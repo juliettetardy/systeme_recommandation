{
 "cells": [
  {
   "cell_type": "markdown",
   "metadata": {},
   "source": [
    "# Etiquetage et annotation"
   ]
  },
  {
   "cell_type": "markdown",
   "metadata": {},
   "source": [
    "Collecte de données automatisée de notre dossier d'images (116 images) pour le système de recommandation selon 5 critères dans un fichier 'etiquetage.json'.\n",
    "- Orientation de l'images \n",
    "- Résolution de l'image\n",
    "- ISO de l'image\n",
    "- La catégorie : chien ou chat\n",
    "- Animal dans la nature ou non ? proportion de vert dans l'image"
   ]
  },
  {
   "cell_type": "code",
   "execution_count": 2,
   "metadata": {},
   "outputs": [],
   "source": [
    "from pandas import json_normalize\n",
    "import pandas as pd\n",
    "import json\n",
    "import math\n",
    "import matplotlib.pyplot as plot\n",
    "import numpy as np"
   ]
  },
  {
   "cell_type": "markdown",
   "metadata": {},
   "source": [
    "## EXIF des images"
   ]
  },
  {
   "cell_type": "markdown",
   "metadata": {},
   "source": [
    "Dans un premier temps on récupère 3 données Exif dans un fichier JSON : nom de l'image, orientation de l'images, résolution de l'image et ISO de l'image"
   ]
  },
  {
   "cell_type": "code",
   "execution_count": 3,
   "metadata": {},
   "outputs": [
    {
     "name": "stderr",
     "output_type": "stream",
     "text": [
      "c:\\Users\\julie\\OneDrive\\Bureau\\4ETI\\Autres\\env_msi\\env_msi\\Lib\\site-packages\\PIL\\TiffImagePlugin.py:759: UserWarning: Metadata Warning, tag 33723 had too many entries: 2, expected 1\n",
      "  warnings.warn(\n"
     ]
    },
    {
     "name": "stdout",
     "output_type": "stream",
     "text": [
      "Métadonnées enregistrées dans etiquetage.json\n"
     ]
    }
   ],
   "source": [
    "import os\n",
    "import json\n",
    "from PIL import Image\n",
    "from PIL.ExifTags import TAGS\n",
    "\n",
    "# Définir le dossier contenant les images\n",
    "image_folder = \"images/\"\n",
    "file = \"etiquetage.json\"\n",
    "\n",
    "# Liste pour stocker les métadonnées\n",
    "metadata_list = []\n",
    "\n",
    "# Fonction pour déterminer l'orientation de l'image\n",
    "def get_orientation(image):\n",
    "    width, height = image.size\n",
    "    if width > height:\n",
    "        return \"Paysage\"\n",
    "    elif width < height:\n",
    "        return \"Portrait\"\n",
    "    else:\n",
    "        return \"Carré\"\n",
    "\n",
    "# Parcourir tous les fichiers du dossier\n",
    "for filename in os.listdir(image_folder):\n",
    "    file_path = os.path.join(image_folder, filename)\n",
    "    \n",
    "    # Vérifier si c'est un fichier image\n",
    "    try:\n",
    "        with Image.open(file_path) as img:\n",
    "            exif_data = img._getexif()  # Récupérer les métadonnées EXIF\n",
    "            \n",
    "            width, height = img.size  # Récupérer la résolution\n",
    "\n",
    "            image_info = {\n",
    "                \"nom_image\": filename,\n",
    "                \"orientation\": get_orientation(img),\n",
    "                \"resolution\": f\"{width}x{height}\",\n",
    "                \"iso\": None\n",
    "            }\n",
    "\n",
    "            if exif_data:  \n",
    "                for tag, value in exif_data.items():\n",
    "                    tag_name = TAGS.get(tag, tag)  \n",
    "                    \n",
    "                    if tag_name == \"ISOSpeedRatings\":  \n",
    "                        image_info[\"iso\"] = value\n",
    "\n",
    "            metadata_list.append(image_info)\n",
    "\n",
    "    except Exception as e:\n",
    "        print(f\"Erreur avec {filename} : {e}\")\n",
    "\n",
    "# Sauvegarde des métadonnées dans un fichier JSON\n",
    "with open(file, \"w\", encoding=\"utf-8\") as json_file:\n",
    "    json.dump(metadata_list, json_file, indent=4, ensure_ascii=False)\n",
    "\n",
    "print(f\"Métadonnées enregistrées dans {file}\")\n"
   ]
  },
  {
   "cell_type": "markdown",
   "metadata": {},
   "source": [
    "# Catégorie : chien ou chat"
   ]
  },
  {
   "cell_type": "code",
   "execution_count": 5,
   "metadata": {},
   "outputs": [
    {
     "name": "stdout",
     "output_type": "stream",
     "text": [
      "Downloading data from https://storage.googleapis.com/tensorflow/keras-applications/mobilenet/mobilenet_1_0_224_tf.h5\n",
      "\u001b[1m17225924/17225924\u001b[0m \u001b[32m━━━━━━━━━━━━━━━━━━━━\u001b[0m\u001b[37m\u001b[0m \u001b[1m1s\u001b[0m 0us/step\n",
      "\u001b[1m1/1\u001b[0m \u001b[32m━━━━━━━━━━━━━━━━━━━━\u001b[0m\u001b[37m\u001b[0m \u001b[1m0s\u001b[0m 440ms/step\n",
      "Downloading data from https://storage.googleapis.com/download.tensorflow.org/data/imagenet_class_index.json\n",
      "\u001b[1m35363/35363\u001b[0m \u001b[32m━━━━━━━━━━━━━━━━━━━━\u001b[0m\u001b[37m\u001b[0m \u001b[1m0s\u001b[0m 0us/step\n",
      "1: Samoyed (0.73)\n",
      "2: Eskimo_dog (0.14)\n",
      "3: dogsled (0.06)\n"
     ]
    }
   ],
   "source": [
    "import tensorflow as tf\n",
    "from tensorflow.keras.applications import MobileNet\n",
    "from tensorflow.keras.applications.mobilenet import preprocess_input\n",
    "import numpy as np\n",
    "from PIL import Image\n",
    "\n",
    "# Charger le modèle pré-entraîné\n",
    "model = MobileNet(weights=\"imagenet\")\n",
    "\n",
    "# Charger une image et la préparer\n",
    "image_path = \"images/618736210a13.jpg\"  # Remplace avec ton image\n",
    "image = Image.open(image_path).resize((224, 224))\n",
    "image_array = np.array(image)\n",
    "image_array = np.expand_dims(image_array, axis=0)\n",
    "image_array = preprocess_input(image_array)\n",
    "\n",
    "# Faire la prédiction\n",
    "predictions = model.predict(image_array)\n",
    "\n",
    "# Décoder les résultats\n",
    "decoded_predictions = tf.keras.applications.mobilenet.decode_predictions(predictions, top=3)\n",
    "for i, (imagenet_id, label, score) in enumerate(decoded_predictions[0]):\n",
    "    print(f\"{i+1}: {label} ({score:.2f})\")"
   ]
  },
  {
   "cell_type": "markdown",
   "metadata": {},
   "source": [
    "## Couleurs"
   ]
  },
  {
   "cell_type": "code",
   "execution_count": null,
   "metadata": {},
   "outputs": [],
   "source": []
  },
  {
   "cell_type": "code",
   "execution_count": 5,
   "metadata": {},
   "outputs": [
    {
     "name": "stdout",
     "output_type": "stream",
     "text": [
      "Nombre d'éléments dans le fichier JSON : 116\n"
     ]
    }
   ],
   "source": [
    "import json\n",
    "\n",
    "file = \"etiquetage.json\"\n",
    "\n",
    "# Charger le fichier JSON\n",
    "with open(file, \"r\", encoding=\"utf-8\") as json_file:\n",
    "    data = json.load(json_file)\n",
    "\n",
    "# Afficher le nombre d'éléments\n",
    "print(f\"Nombre d'éléments dans le fichier JSON : {len(data)}\")\n"
   ]
  }
 ],
 "metadata": {
  "kernelspec": {
   "display_name": "env_msi",
   "language": "python",
   "name": "python3"
  },
  "language_info": {
   "codemirror_mode": {
    "name": "ipython",
    "version": 3
   },
   "file_extension": ".py",
   "mimetype": "text/x-python",
   "name": "python",
   "nbconvert_exporter": "python",
   "pygments_lexer": "ipython3",
   "version": "3.11.9"
  }
 },
 "nbformat": 4,
 "nbformat_minor": 2
}
