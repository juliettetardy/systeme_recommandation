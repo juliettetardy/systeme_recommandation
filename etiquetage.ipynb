{
 "cells": [
  {
   "cell_type": "markdown",
   "metadata": {},
   "source": [
    "# Etiquetage et annotation"
   ]
  },
  {
   "cell_type": "markdown",
   "metadata": {},
   "source": [
    "## EXIF des images"
   ]
  },
  {
   "cell_type": "code",
   "execution_count": null,
   "metadata": {},
   "outputs": [],
   "source": [
    "import numpy as np\n",
    "\n",
    "import os, sys\n",
    "from PIL import Image\n",
    "from PIL.ExifTags import TAGS\n",
    "\n",
    "imgfile = Image.open(\"images/flower.jpg\")\n",
    "exif_data = imgfile._getexif()\n",
    "\n",
    "if exif_data:  # s'il existe des informations EXIF\n",
    "    for tag, value in exif_data.items():\n",
    "        if tag in TAGS:\n",
    "            print(TAGS[tag], value)"
   ]
  },
  {
   "cell_type": "code",
   "execution_count": null,
   "metadata": {},
   "outputs": [
    {
     "ename": "",
     "evalue": "",
     "output_type": "error",
     "traceback": [
      "\u001b[1;31mRunning cells with 'env_msi (Python 3.11.9)' requires the ipykernel package.\n",
      "\u001b[1;31mRun the following command to install 'ipykernel' into the Python environment. \n",
      "\u001b[1;31mCommand: 'c:/Users/julie/OneDrive/Bureau/4ETI/Autres/env_msi/env_msi/Scripts/python.exe -m pip install ipykernel -U --force-reinstall'"
     ]
    }
   ],
   "source": [
    "import tensorflow as tf\n",
    "from tensorflow.keras.applications import MobileNet\n",
    "from tensorflow.keras.applications.mobilenet import preprocess_input\n",
    "import numpy as np\n",
    "from PIL import Image\n",
    "\n",
    "# Charger le modèle pré-entraîné\n",
    "model = MobileNet(weights=\"imagenet\")\n",
    "\n",
    "# Charger une image et la préparer\n",
    "image_path = \"images/618736210a13.jpg\"  # Remplace avec ton image\n",
    "image = Image.open(image_path).resize((224, 224))\n",
    "image_array = np.array(image)\n",
    "image_array = np.expand_dims(image_array, axis=0)\n",
    "image_array = preprocess_input(image_array)\n",
    "\n",
    "# Faire la prédiction\n",
    "predictions = model.predict(image_array)\n",
    "\n",
    "# Décoder les résultats\n",
    "decoded_predictions = tf.keras.applications.mobilenet.decode_predictions(predictions, top=3)\n",
    "for i, (imagenet_id, label, score) in enumerate(decoded_predictions[0]):\n",
    "    print(f\"{i+1}: {label} ({score:.2f})\")"
   ]
  }
 ],
 "metadata": {
  "kernelspec": {
   "display_name": "env_msi",
   "language": "python",
   "name": "python3"
  },
  "language_info": {
   "name": "python",
   "version": "3.11.9"
  }
 },
 "nbformat": 4,
 "nbformat_minor": 2
}
