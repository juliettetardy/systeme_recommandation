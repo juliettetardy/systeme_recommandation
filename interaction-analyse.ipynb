{
 "cells": [
  {
   "cell_type": "markdown",
   "id": "0a839229-63b1-4d62-8336-dfec92e72eda",
   "metadata": {},
   "source": [
    "# Using ipywidgets for user interaction"
   ]
  },
  {
   "cell_type": "markdown",
   "id": "7b3b4b32-0867-4454-952d-0199ad972957",
   "metadata": {},
   "source": [
    "## Installation"
   ]
  },
  {
   "cell_type": "code",
   "execution_count": 1,
   "id": "091f57f2-34dd-4ca7-bdc8-ed5ef19005aa",
   "metadata": {},
   "outputs": [
    {
     "name": "stderr",
     "output_type": "stream",
     "text": [
      "\n",
      "[notice] A new release of pip is available: 24.0 -> 25.0.1\n",
      "[notice] To update, run: python.exe -m pip install --upgrade pip\n"
     ]
    },
    {
     "name": "stdout",
     "output_type": "stream",
     "text": [
      "Requirement already satisfied: ipywidgets in c:\\users\\estelle\\documents\\env_msi\\env_msi\\lib\\site-packages (8.1.5)\n",
      "Requirement already satisfied: comm>=0.1.3 in c:\\users\\estelle\\documents\\env_msi\\env_msi\\lib\\site-packages (from ipywidgets) (0.2.2)\n",
      "Requirement already satisfied: ipython>=6.1.0 in c:\\users\\estelle\\documents\\env_msi\\env_msi\\lib\\site-packages (from ipywidgets) (8.27.0)\n",
      "Requirement already satisfied: traitlets>=4.3.1 in c:\\users\\estelle\\documents\\env_msi\\env_msi\\lib\\site-packages (from ipywidgets) (5.14.3)\n",
      "Requirement already satisfied: widgetsnbextension~=4.0.12 in c:\\users\\estelle\\documents\\env_msi\\env_msi\\lib\\site-packages (from ipywidgets) (4.0.13)\n",
      "Requirement already satisfied: jupyterlab-widgets~=3.0.12 in c:\\users\\estelle\\documents\\env_msi\\env_msi\\lib\\site-packages (from ipywidgets) (3.0.13)\n",
      "Requirement already satisfied: decorator in c:\\users\\estelle\\documents\\env_msi\\env_msi\\lib\\site-packages (from ipython>=6.1.0->ipywidgets) (5.1.1)\n",
      "Requirement already satisfied: jedi>=0.16 in c:\\users\\estelle\\documents\\env_msi\\env_msi\\lib\\site-packages (from ipython>=6.1.0->ipywidgets) (0.19.1)\n",
      "Requirement already satisfied: matplotlib-inline in c:\\users\\estelle\\documents\\env_msi\\env_msi\\lib\\site-packages (from ipython>=6.1.0->ipywidgets) (0.1.7)\n",
      "Requirement already satisfied: prompt-toolkit<3.1.0,>=3.0.41 in c:\\users\\estelle\\documents\\env_msi\\env_msi\\lib\\site-packages (from ipython>=6.1.0->ipywidgets) (3.0.47)\n",
      "Requirement already satisfied: pygments>=2.4.0 in c:\\users\\estelle\\documents\\env_msi\\env_msi\\lib\\site-packages (from ipython>=6.1.0->ipywidgets) (2.18.0)\n",
      "Requirement already satisfied: stack-data in c:\\users\\estelle\\documents\\env_msi\\env_msi\\lib\\site-packages (from ipython>=6.1.0->ipywidgets) (0.6.3)\n",
      "Requirement already satisfied: typing-extensions>=4.6 in c:\\users\\estelle\\documents\\env_msi\\env_msi\\lib\\site-packages (from ipython>=6.1.0->ipywidgets) (4.12.2)\n",
      "Requirement already satisfied: colorama in c:\\users\\estelle\\documents\\env_msi\\env_msi\\lib\\site-packages (from ipython>=6.1.0->ipywidgets) (0.4.6)\n",
      "Requirement already satisfied: parso<0.9.0,>=0.8.3 in c:\\users\\estelle\\documents\\env_msi\\env_msi\\lib\\site-packages (from jedi>=0.16->ipython>=6.1.0->ipywidgets) (0.8.4)\n",
      "Requirement already satisfied: wcwidth in c:\\users\\estelle\\documents\\env_msi\\env_msi\\lib\\site-packages (from prompt-toolkit<3.1.0,>=3.0.41->ipython>=6.1.0->ipywidgets) (0.2.13)\n",
      "Requirement already satisfied: executing>=1.2.0 in c:\\users\\estelle\\documents\\env_msi\\env_msi\\lib\\site-packages (from stack-data->ipython>=6.1.0->ipywidgets) (2.1.0)\n",
      "Requirement already satisfied: asttokens>=2.1.0 in c:\\users\\estelle\\documents\\env_msi\\env_msi\\lib\\site-packages (from stack-data->ipython>=6.1.0->ipywidgets) (2.4.1)\n",
      "Requirement already satisfied: pure-eval in c:\\users\\estelle\\documents\\env_msi\\env_msi\\lib\\site-packages (from stack-data->ipython>=6.1.0->ipywidgets) (0.2.3)\n",
      "Requirement already satisfied: six>=1.12.0 in c:\\users\\estelle\\documents\\env_msi\\env_msi\\lib\\site-packages (from asttokens>=2.1.0->stack-data->ipython>=6.1.0->ipywidgets) (1.16.0)\n"
     ]
    }
   ],
   "source": [
    "!pip install ipywidgets"
   ]
  },
  {
   "cell_type": "markdown",
   "id": "79396b89-219f-4cf0-a719-c4a46af2bc61",
   "metadata": {},
   "source": [
    "## Using ipywidgets"
   ]
  },
  {
   "cell_type": "code",
   "execution_count": 2,
   "id": "868f5fae-1e30-404d-a70c-ced026efa105",
   "metadata": {},
   "outputs": [],
   "source": [
    "import ipywidgets as widgets"
   ]
  },
  {
   "cell_type": "markdown",
   "id": "ddda3c77-2744-4ef0-8b0d-6f7592e556df",
   "metadata": {},
   "source": [
    "## Get all the images"
   ]
  },
  {
   "cell_type": "code",
   "execution_count": 3,
   "id": "250b2c53-77b7-4fee-bc55-649546afff34",
   "metadata": {},
   "outputs": [],
   "source": [
    "from os import listdir"
   ]
  },
  {
   "cell_type": "code",
   "execution_count": 9,
   "id": "561debf0-5bf6-4ad2-88d0-26d7be585aa8",
   "metadata": {},
   "outputs": [
    {
     "name": "stdout",
     "output_type": "stream",
     "text": [
      "['images/%282%29%20Isha%20female%20rajapalayam.jpg', 'images/%D0%A4%D0%BE%D1%82%D0%BE%20%D0%BA%D1%83%D0%BD%D0%BE%D0%B2.jpg', 'images/09057110%20Jura%20Laufhund.jpg', 'images/618736210a13.jpg', 'images/8-month-old%20male%20Lykoi.jpg', 'images/Abessinierkater1.jpg', 'images/Adult%20Glen%20of%20Imaal%20terrier.jpg', 'images/Aegean%20Island%20Cat.jpg', 'images/Akbash%20Dog%20in%20CA.jpg', 'images/American%20bobtail%202.jpg', 'images/American%20curl%202.jpg', 'images/AmericanCockerSpaniel%20wb.jpg', 'images/Armenian%20Gampr%2001.jpg', 'images/Australian%20Mist.jpg', 'images/Bergamasco%20600.jpg', 'images/Bex%20Arabian%20Mau.jpg', 'images/BIR%20Grupp%207-%20BRACCO%20ITALIANO%2C%20Nuits%20Di%20Montemassi%20%2823866391829%29.jpg', 'images/Birman%20red%20lynx%20point%2002.jpg', 'images/Bissel%203.jpg', 'images/BLH%20cat%20transparent.png', 'images/Bodeguero%20young.jpg', 'images/Bullterier%20089%20LM.jpg', 'images/Cao%20de%20castro%20laboreiro.jpg', 'images/Cat%20Sphynx.%20img%20025.jpg', 'images/Chart%20%C5%9Brodkowoazjatycki%20Zeila.jpg', 'images/Chizhik%20Cat%20%28cropped%29.jpg', 'images/Chocolate%20Persian.jpg', 'images/Cirneco%20dell%20Etna%20611.jpg', 'images/Coton%20de%20Tular%202.jpg', 'images/Dandie%20Dinmont%20Terrier%20600.jpg', 'images/Dobermann%20Father-and-son.jpg', 'images/Dog%20Bullmastiff%20600.jpg', 'images/Dog%20Hovavart.jpg', 'images/Don%20sphynx.jpg', 'images/Duitse%20staande%20korthaar%2010-10-1.jpg', 'images/Epagneul%20Breton.jpg', 'images/Epagneul%20picard%20685.jpg', 'images/Estrela%20Mountain%20Dog%206%20month%20old%20male.jpg', 'images/Gato%20Ragdoll%20BreedingCat.jpg', 'images/German%20rex%20harry%20%28cropped%29.jpg', 'images/Ghislaine%206028.jpg', 'images/Grupp%209%2C%20LHASA%20APSO%2C%20DK%20JV-13%20DK%20V-14%20DK%20V-15%20NO%20UCH%20NO%20V-15%20SE%20UCH%20Chic%20Choix%20Some%20Like%20It%20Chic%20%2824014621720%29.jpg', 'images/Hannoverscher%20Schweisshund.jpg', 'images/Harrier%20tricolour.jpg', 'images/Havana%20Brown%20-%20choco.jpg', 'images/Image%20of%20Kai%20%28dog%29.jpg', 'images/Irsika.jpg', 'images/Istrian%20hound2.jpg', 'images/Jack%20Russell%20Terrier%201.jpg', 'images/Jamthlnd.jpg', 'images/Japanese%20Chin%20adult.jpg', 'images/JapaneseSpitzPhoto1%20-%20hiro.jpg', 'images/Javanese%20cat.jpg', 'images/Jewelkatz%20Romeo%20Of%20Stalker-Bars.jpg', 'images/Khaomanee%20cat.jpg', 'images/Kishu.jpg', 'images/Kitten%20Alpha%20MMB%202021-08-22.jpg', 'images/Kleiner%20Munsterlander%20edit.jpg', 'images/KOR%201149.jpg', 'images/Lakeland%20Terrier.jpg', 'images/Laperm%20LH%20blacktortie%20white.jpg', 'images/Lapskvallhund.jpg', 'images/LowchenFemale.jpg', 'images/LUPO%20ITALIANO%20-%20PALIO%20DI%20CENEDA%202018%2015.png', 'images/Ma%C5%82y%20go%C5%84czy%20gasko%C5%84ski%20Cita%20z%20Beckova%20Cb5.jpg', 'images/Manx%20cat%20by%20Karen%20Weaver.jpg', 'images/Mau%20Egytien.jpg', 'images/MVP%20Nitra%202004%20%288%29.jpg', 'images/Mystica%20from%20British%20Empire%20Cattery.jpg', 'images/NevaMasqueradeFiona%20%28cropped%29.jpg', 'images/Norwegian%20Hygenhound.jpg', 'images/Ocicat%20Fond%20Blanc.jpg', 'images/Ojos%20Azules%20from%20the%20USA.jpg', 'images/Olde%20English%20Bulldogge%20Crop.jpg', 'images/Orientalshorthairs2.jpg', 'images/Orrvilas%20enska%20w800px.jpg', 'images/Paintedcats%20Red%20Star%20standing.jpg', 'images/Pantanal%20Pixie-Bob%202.jpg', 'images/Papillon-dog-black.jpg', 'images/Pastor%20aleman%20a.jpg', 'images/Peterbald.jpg', 'images/Poitevin%20Hound.jpg', 'images/PolishScenthound-ChPl-NEMROD-KlusujacaSfora-wl.GrzegorzWeron.jpg', 'images/Portuguese%20pointer%2011yo.jpg', 'images/Purple-scottish-fold.png', 'images/Racib%C3%B3rz%202007%20082.jpg', 'images/Rampurgreyhound.jpg', 'images/Rastreadora%20Brasileira%20Gaya.jpg', 'images/Ratonero%20valenciano%20dunkel.jpg', 'images/Ruskis%20dimka%203%20%28cropped%29.jpg', 'images/SC%20Alizarin%20Animal%20Beat%20SIB%20a%2023.jpg', 'images/Selkirk%20Longhair.jpg', 'images/Serengetimalecat.jpg', 'images/Siam%20lilacpoint.jpg', 'images/Standard%20Alaskan%20Klee%20Kai.jpg', 'images/Star%20Spangled%20Cat.jpg', 'images/SuphalakAyodia.jpg', 'images/Swissy-2009-11-02.jpg', 'images/TOB%20Velena-Kutc%20%2815818956518%29%20%28cropped%29.jpg', 'images/Volpino04.jpg']\n"
     ]
    }
   ],
   "source": [
    "images = []\n",
    "\n",
    "for file in listdir(\"images/\"):\n",
    "    if \".png\" in file:\n",
    "        images.append(\"images/\" + file)\n",
    "    elif \".jpg\" in file:\n",
    "        images.append(\"images/\" + file)\n",
    "print(images)"
   ]
  },
  {
   "cell_type": "markdown",
   "id": "1a159184-31a1-4628-8a4d-ffcae3d4a5e5",
   "metadata": {},
   "source": [
    "## Using GridSpectLayout"
   ]
  },
  {
   "cell_type": "code",
   "execution_count": 10,
   "id": "e5954bd2-5f13-41b7-ad7f-1b21d0e4634e",
   "metadata": {},
   "outputs": [
    {
     "data": {
      "application/vnd.jupyter.widget-view+json": {
       "model_id": "53623e5163d74e679a9c2e617375abf0",
       "version_major": 2,
       "version_minor": 0
      },
      "text/plain": [
       "GridspecLayout(children=(Image(value=b'\\xff\\xd8\\xff\\xe0\\x00\\x10JFIF\\x00\\x01\\x01\\x01\\x00`\\x00`\\x00\\x00\\xff\\xe1\\…"
      ]
     },
     "metadata": {},
     "output_type": "display_data"
    },
    {
     "data": {
      "application/vnd.jupyter.widget-view+json": {
       "model_id": "f9ef2a93361441cb9c210d66b7656cfd",
       "version_major": 2,
       "version_minor": 0
      },
      "text/plain": [
       "Button(description='Select', style=ButtonStyle())"
      ]
     },
     "metadata": {},
     "output_type": "display_data"
    },
    {
     "data": {
      "application/vnd.jupyter.widget-view+json": {
       "model_id": "c55b7f5cb6564b3fb25acb2637b03761",
       "version_major": 2,
       "version_minor": 0
      },
      "text/plain": [
       "Output()"
      ]
     },
     "metadata": {},
     "output_type": "display_data"
    }
   ],
   "source": [
    "from ipywidgets import GridspecLayout, Image, interact\n",
    "paths = []\n",
    "\n",
    "checkboxes = [widgets.Checkbox(value=False, description='Favorite') for _ in range(len(images))]\n",
    "\n",
    "# Create the GridspecLayout widget\n",
    "layout = GridspecLayout(n_columns=2, n_rows=len(images), width='400px')\n",
    "for i, (img, checkbox) in enumerate(zip(images, checkboxes)):\n",
    "  file = open(img, \"rb\")\n",
    "  image = file.read()\n",
    "  image_widget = widgets.Image(\n",
    "    value=image,\n",
    "    format='png',\n",
    "    width=100,\n",
    "    height=100,\n",
    "  )\n",
    "  layout[i,0] = image_widget\n",
    "  layout[i, 1] = checkbox\n",
    "\n",
    "# Button to get selected images\n",
    "button = widgets.Button(description=\"Select\")\n",
    "\n",
    "# Output widget to display selected images\n",
    "output = widgets.Output()\n",
    "\n",
    "# Function to get selected images\n",
    "def get_selected_images(btn):\n",
    "    global paths\n",
    "    paths = []\n",
    "    selected_paths = [images[i] for i, checkbox in enumerate(checkboxes) if checkbox.value]\n",
    "    with output:\n",
    "        output.clear_output()\n",
    "        print(\"Selected Images:\")\n",
    "        for path in selected_paths:\n",
    "            print(path)\n",
    "            paths.append(path)\n",
    "    #print(paths)\n",
    "        \n",
    "\n",
    "# Link button click event to function\n",
    "button.on_click(get_selected_images)\n",
    "\n",
    "# Display the layout and button\n",
    "display(layout, button, output)"
   ]
  },
  {
   "cell_type": "code",
   "execution_count": 8,
   "id": "8dbf7a77-41e0-430c-98b8-133cffaf2681",
   "metadata": {},
   "outputs": [
    {
     "data": {
      "text/plain": [
       "['../Projet/images/BLH%20cat%20transparent.png',\n",
       " '../Projet/images/Purple-scottish-fold.png']"
      ]
     },
     "execution_count": 8,
     "metadata": {},
     "output_type": "execute_result"
    }
   ],
   "source": [
    "paths"
   ]
  }
 ],
 "metadata": {
  "kernelspec": {
   "display_name": "env_msi",
   "language": "python",
   "name": "python3"
  },
  "language_info": {
   "codemirror_mode": {
    "name": "ipython",
    "version": 3
   },
   "file_extension": ".py",
   "mimetype": "text/x-python",
   "name": "python",
   "nbconvert_exporter": "python",
   "pygments_lexer": "ipython3",
   "version": "3.11.9"
  }
 },
 "nbformat": 4,
 "nbformat_minor": 5
}
