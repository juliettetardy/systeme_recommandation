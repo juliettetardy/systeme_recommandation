{
 "cells": [
  {
   "cell_type": "markdown",
   "id": "0a839229-63b1-4d62-8336-dfec92e72eda",
   "metadata": {},
   "source": [
    "# Using ipywidgets for user interaction"
   ]
  },
  {
   "cell_type": "markdown",
   "id": "7b3b4b32-0867-4454-952d-0199ad972957",
   "metadata": {},
   "source": [
    "## Installation"
   ]
  },
  {
   "cell_type": "code",
   "execution_count": null,
   "id": "091f57f2-34dd-4ca7-bdc8-ed5ef19005aa",
   "metadata": {},
   "outputs": [
    {
     "name": "stdout",
     "output_type": "stream",
     "text": [
      "Collecting ipywidgets\n",
      "  Using cached ipywidgets-8.1.5-py3-none-any.whl.metadata (2.3 kB)\n",
      "Requirement already satisfied: comm>=0.1.3 in c:\\users\\julie\\onedrive\\bureau\\4eti\\autres\\env_msi\\env_msi\\lib\\site-packages (from ipywidgets) (0.2.2)\n",
      "Requirement already satisfied: ipython>=6.1.0 in c:\\users\\julie\\onedrive\\bureau\\4eti\\autres\\env_msi\\env_msi\\lib\\site-packages (from ipywidgets) (8.32.0)\n",
      "Requirement already satisfied: traitlets>=4.3.1 in c:\\users\\julie\\onedrive\\bureau\\4eti\\autres\\env_msi\\env_msi\\lib\\site-packages (from ipywidgets) (5.14.3)\n",
      "Collecting widgetsnbextension~=4.0.12 (from ipywidgets)\n",
      "  Using cached widgetsnbextension-4.0.13-py3-none-any.whl.metadata (1.6 kB)\n",
      "Collecting jupyterlab-widgets~=3.0.12 (from ipywidgets)\n",
      "  Using cached jupyterlab_widgets-3.0.13-py3-none-any.whl.metadata (4.1 kB)\n",
      "Requirement already satisfied: colorama in c:\\users\\julie\\onedrive\\bureau\\4eti\\autres\\env_msi\\env_msi\\lib\\site-packages (from ipython>=6.1.0->ipywidgets) (0.4.6)\n",
      "Requirement already satisfied: decorator in c:\\users\\julie\\onedrive\\bureau\\4eti\\autres\\env_msi\\env_msi\\lib\\site-packages (from ipython>=6.1.0->ipywidgets) (5.1.1)\n",
      "Requirement already satisfied: jedi>=0.16 in c:\\users\\julie\\onedrive\\bureau\\4eti\\autres\\env_msi\\env_msi\\lib\\site-packages (from ipython>=6.1.0->ipywidgets) (0.19.2)\n",
      "Requirement already satisfied: matplotlib-inline in c:\\users\\julie\\onedrive\\bureau\\4eti\\autres\\env_msi\\env_msi\\lib\\site-packages (from ipython>=6.1.0->ipywidgets) (0.1.7)\n",
      "Requirement already satisfied: prompt_toolkit<3.1.0,>=3.0.41 in c:\\users\\julie\\onedrive\\bureau\\4eti\\autres\\env_msi\\env_msi\\lib\\site-packages (from ipython>=6.1.0->ipywidgets) (3.0.50)\n",
      "Requirement already satisfied: pygments>=2.4.0 in c:\\users\\julie\\onedrive\\bureau\\4eti\\autres\\env_msi\\env_msi\\lib\\site-packages (from ipython>=6.1.0->ipywidgets) (2.19.1)\n",
      "Requirement already satisfied: stack_data in c:\\users\\julie\\onedrive\\bureau\\4eti\\autres\\env_msi\\env_msi\\lib\\site-packages (from ipython>=6.1.0->ipywidgets) (0.6.3)\n",
      "Requirement already satisfied: typing_extensions>=4.6 in c:\\users\\julie\\onedrive\\bureau\\4eti\\autres\\env_msi\\env_msi\\lib\\site-packages (from ipython>=6.1.0->ipywidgets) (4.12.2)\n",
      "Requirement already satisfied: parso<0.9.0,>=0.8.4 in c:\\users\\julie\\onedrive\\bureau\\4eti\\autres\\env_msi\\env_msi\\lib\\site-packages (from jedi>=0.16->ipython>=6.1.0->ipywidgets) (0.8.4)\n",
      "Requirement already satisfied: wcwidth in c:\\users\\julie\\onedrive\\bureau\\4eti\\autres\\env_msi\\env_msi\\lib\\site-packages (from prompt_toolkit<3.1.0,>=3.0.41->ipython>=6.1.0->ipywidgets) (0.2.13)\n",
      "Requirement already satisfied: executing>=1.2.0 in c:\\users\\julie\\onedrive\\bureau\\4eti\\autres\\env_msi\\env_msi\\lib\\site-packages (from stack_data->ipython>=6.1.0->ipywidgets) (2.2.0)\n",
      "Requirement already satisfied: asttokens>=2.1.0 in c:\\users\\julie\\onedrive\\bureau\\4eti\\autres\\env_msi\\env_msi\\lib\\site-packages (from stack_data->ipython>=6.1.0->ipywidgets) (3.0.0)\n",
      "Requirement already satisfied: pure-eval in c:\\users\\julie\\onedrive\\bureau\\4eti\\autres\\env_msi\\env_msi\\lib\\site-packages (from stack_data->ipython>=6.1.0->ipywidgets) (0.2.3)\n",
      "Using cached ipywidgets-8.1.5-py3-none-any.whl (139 kB)\n",
      "Using cached jupyterlab_widgets-3.0.13-py3-none-any.whl (214 kB)\n",
      "Using cached widgetsnbextension-4.0.13-py3-none-any.whl (2.3 MB)\n",
      "Installing collected packages: widgetsnbextension, jupyterlab-widgets, ipywidgets\n",
      "Successfully installed ipywidgets-8.1.5 jupyterlab-widgets-3.0.13 widgetsnbextension-4.0.13\n"
     ]
    }
   ],
   "source": [
    "!pip install ipywidgets"
   ]
  },
  {
   "cell_type": "markdown",
   "id": "79396b89-219f-4cf0-a719-c4a46af2bc61",
   "metadata": {},
   "source": [
    "## Using ipywidgets"
   ]
  },
  {
   "cell_type": "code",
   "execution_count": 1,
   "id": "868f5fae-1e30-404d-a70c-ced026efa105",
   "metadata": {},
   "outputs": [],
   "source": [
    "import ipywidgets as widgets"
   ]
  },
  {
   "cell_type": "markdown",
   "id": "ddda3c77-2744-4ef0-8b0d-6f7592e556df",
   "metadata": {},
   "source": [
    "## Get all the images"
   ]
  },
  {
   "cell_type": "code",
   "execution_count": 2,
   "id": "250b2c53-77b7-4fee-bc55-649546afff34",
   "metadata": {},
   "outputs": [],
   "source": [
    "from os import listdir"
   ]
  },
  {
   "cell_type": "code",
   "execution_count": 9,
   "id": "561debf0-5bf6-4ad2-88d0-26d7be585aa8",
   "metadata": {},
   "outputs": [],
   "source": [
    "images = []\n",
    "\n",
    "for file in listdir(\"../Projet/images/\"):\n",
    "    if \".png\" in file:\n",
    "        images.append(\"../Projet/images/\" + file)\n",
    "    elif \".jpg\" in file:\n",
    "        images.append(\"../Projet/images/\" + file)"
   ]
  },
  {
   "cell_type": "markdown",
   "id": "1a159184-31a1-4628-8a4d-ffcae3d4a5e5",
   "metadata": {},
   "source": [
    "## Using GridSpectLayout"
   ]
  },
  {
   "cell_type": "code",
   "execution_count": 10,
   "id": "e5954bd2-5f13-41b7-ad7f-1b21d0e4634e",
   "metadata": {},
   "outputs": [
    {
     "data": {
      "application/vnd.jupyter.widget-view+json": {
       "model_id": "53623e5163d74e679a9c2e617375abf0",
       "version_major": 2,
       "version_minor": 0
      },
      "text/plain": [
       "GridspecLayout(children=(Image(value=b'\\xff\\xd8\\xff\\xe0\\x00\\x10JFIF\\x00\\x01\\x01\\x01\\x00`\\x00`\\x00\\x00\\xff\\xe1\\…"
      ]
     },
     "metadata": {},
     "output_type": "display_data"
    },
    {
     "data": {
      "application/vnd.jupyter.widget-view+json": {
       "model_id": "f9ef2a93361441cb9c210d66b7656cfd",
       "version_major": 2,
       "version_minor": 0
      },
      "text/plain": [
       "Button(description='Select', style=ButtonStyle())"
      ]
     },
     "metadata": {},
     "output_type": "display_data"
    },
    {
     "data": {
      "application/vnd.jupyter.widget-view+json": {
       "model_id": "c55b7f5cb6564b3fb25acb2637b03761",
       "version_major": 2,
       "version_minor": 0
      },
      "text/plain": [
       "Output()"
      ]
     },
     "metadata": {},
     "output_type": "display_data"
    }
   ],
   "source": [
    "from ipywidgets import GridspecLayout, Image, interact\n",
    "paths = []\n",
    "\n",
    "checkboxes = [widgets.Checkbox(value=False, description='Favorite') for _ in range(len(images))]\n",
    "\n",
    "# Create the GridspecLayout widget\n",
    "layout = GridspecLayout(n_columns=2, n_rows=len(images), width='400px')\n",
    "for i, (img, checkbox) in enumerate(zip(images, checkboxes)):\n",
    "  file = open(img, \"rb\")\n",
    "  image = file.read()\n",
    "  image_widget = widgets.Image(\n",
    "    value=image,\n",
    "    format='png',\n",
    "    width=100,\n",
    "    height=100,\n",
    "  )\n",
    "  layout[i,0] = image_widget\n",
    "  layout[i, 1] = checkbox\n",
    "\n",
    "# Button to get selected images\n",
    "button = widgets.Button(description=\"Select\")\n",
    "\n",
    "# Output widget to display selected images\n",
    "output = widgets.Output()\n",
    "\n",
    "# Function to get selected images\n",
    "def get_selected_images(btn):\n",
    "    global paths\n",
    "    paths = []\n",
    "    selected_paths = [images[i] for i, checkbox in enumerate(checkboxes) if checkbox.value]\n",
    "    with output:\n",
    "        output.clear_output()\n",
    "        print(\"Selected Images:\")\n",
    "        for path in selected_paths:\n",
    "            print(path)\n",
    "            paths.append(path)\n",
    "    #print(paths)\n",
    "        \n",
    "\n",
    "# Link button click event to function\n",
    "button.on_click(get_selected_images)\n",
    "\n",
    "# Display the layout and button\n",
    "display(layout, button, output)"
   ]
  },
  {
   "cell_type": "code",
   "execution_count": 8,
   "id": "8dbf7a77-41e0-430c-98b8-133cffaf2681",
   "metadata": {},
   "outputs": [
    {
     "data": {
      "text/plain": [
       "['../Projet/images/BLH%20cat%20transparent.png',\n",
       " '../Projet/images/Purple-scottish-fold.png']"
      ]
     },
     "execution_count": 8,
     "metadata": {},
     "output_type": "execute_result"
    }
   ],
   "source": [
    "paths"
   ]
  }
 ],
 "metadata": {
  "kernelspec": {
   "display_name": "env_msi",
   "language": "python",
   "name": "python3"
  },
  "language_info": {
   "codemirror_mode": {
    "name": "ipython",
    "version": 3
   },
   "file_extension": ".py",
   "mimetype": "text/x-python",
   "name": "python",
   "nbconvert_exporter": "python",
   "pygments_lexer": "ipython3",
   "version": "3.11.9"
  }
 },
 "nbformat": 4,
 "nbformat_minor": 5
}
