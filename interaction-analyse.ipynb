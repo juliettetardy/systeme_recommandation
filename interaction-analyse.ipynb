{
 "cells": [
  {
   "cell_type": "markdown",
   "id": "0a839229-63b1-4d62-8336-dfec92e72eda",
   "metadata": {},
   "source": [
    "# Analyse de données"
   ]
  },
  {
   "cell_type": "markdown",
   "id": "7b3b4b32-0867-4454-952d-0199ad972957",
   "metadata": {},
   "source": [
    "## Profil de préférences pour un utilisateur"
   ]
  },
  {
   "cell_type": "markdown",
   "id": "a68245e3",
   "metadata": {},
   "source": [
    "On demande a x utilisateurs de mettre en favori ou non X photos. Et on enregistre ses préférence dans un fichier json"
   ]
  },
  {
   "cell_type": "code",
   "execution_count": 1,
   "id": "091f57f2-34dd-4ca7-bdc8-ed5ef19005aa",
   "metadata": {},
   "outputs": [
    {
     "name": "stdout",
     "output_type": "stream",
     "text": [
      "Requirement already satisfied: ipywidgets in c:\\users\\estelle\\documents\\env_msi\\env_msi\\lib\\site-packages (8.1.5)\n",
      "Requirement already satisfied: comm>=0.1.3 in c:\\users\\estelle\\documents\\env_msi\\env_msi\\lib\\site-packages (from ipywidgets) (0.2.2)\n",
      "Requirement already satisfied: ipython>=6.1.0 in c:\\users\\estelle\\documents\\env_msi\\env_msi\\lib\\site-packages (from ipywidgets) (8.27.0)\n",
      "Requirement already satisfied: traitlets>=4.3.1 in c:\\users\\estelle\\documents\\env_msi\\env_msi\\lib\\site-packages (from ipywidgets) (5.14.3)\n",
      "Requirement already satisfied: widgetsnbextension~=4.0.12 in c:\\users\\estelle\\documents\\env_msi\\env_msi\\lib\\site-packages (from ipywidgets) (4.0.13)\n",
      "Requirement already satisfied: jupyterlab-widgets~=3.0.12 in c:\\users\\estelle\\documents\\env_msi\\env_msi\\lib\\site-packages (from ipywidgets) (3.0.13)\n",
      "Requirement already satisfied: decorator in c:\\users\\estelle\\documents\\env_msi\\env_msi\\lib\\site-packages (from ipython>=6.1.0->ipywidgets) (5.1.1)\n",
      "Requirement already satisfied: jedi>=0.16 in c:\\users\\estelle\\documents\\env_msi\\env_msi\\lib\\site-packages (from ipython>=6.1.0->ipywidgets) (0.19.1)\n",
      "Requirement already satisfied: matplotlib-inline in c:\\users\\estelle\\documents\\env_msi\\env_msi\\lib\\site-packages (from ipython>=6.1.0->ipywidgets) (0.1.7)\n",
      "Requirement already satisfied: prompt-toolkit<3.1.0,>=3.0.41 in c:\\users\\estelle\\documents\\env_msi\\env_msi\\lib\\site-packages (from ipython>=6.1.0->ipywidgets) (3.0.47)\n",
      "Requirement already satisfied: pygments>=2.4.0 in c:\\users\\estelle\\documents\\env_msi\\env_msi\\lib\\site-packages (from ipython>=6.1.0->ipywidgets) (2.18.0)\n",
      "Requirement already satisfied: stack-data in c:\\users\\estelle\\documents\\env_msi\\env_msi\\lib\\site-packages (from ipython>=6.1.0->ipywidgets) (0.6.3)\n",
      "Requirement already satisfied: typing-extensions>=4.6 in c:\\users\\estelle\\documents\\env_msi\\env_msi\\lib\\site-packages (from ipython>=6.1.0->ipywidgets) (4.12.2)\n",
      "Requirement already satisfied: colorama in c:\\users\\estelle\\documents\\env_msi\\env_msi\\lib\\site-packages (from ipython>=6.1.0->ipywidgets) (0.4.6)\n",
      "Requirement already satisfied: parso<0.9.0,>=0.8.3 in c:\\users\\estelle\\documents\\env_msi\\env_msi\\lib\\site-packages (from jedi>=0.16->ipython>=6.1.0->ipywidgets) (0.8.4)\n",
      "Requirement already satisfied: wcwidth in c:\\users\\estelle\\documents\\env_msi\\env_msi\\lib\\site-packages (from prompt-toolkit<3.1.0,>=3.0.41->ipython>=6.1.0->ipywidgets) (0.2.13)\n",
      "Requirement already satisfied: executing>=1.2.0 in c:\\users\\estelle\\documents\\env_msi\\env_msi\\lib\\site-packages (from stack-data->ipython>=6.1.0->ipywidgets) (2.1.0)\n",
      "Requirement already satisfied: asttokens>=2.1.0 in c:\\users\\estelle\\documents\\env_msi\\env_msi\\lib\\site-packages (from stack-data->ipython>=6.1.0->ipywidgets) (2.4.1)\n",
      "Requirement already satisfied: pure-eval in c:\\users\\estelle\\documents\\env_msi\\env_msi\\lib\\site-packages (from stack-data->ipython>=6.1.0->ipywidgets) (0.2.3)\n",
      "Requirement already satisfied: six>=1.12.0 in c:\\users\\estelle\\documents\\env_msi\\env_msi\\lib\\site-packages (from asttokens>=2.1.0->stack-data->ipython>=6.1.0->ipywidgets) (1.16.0)\n"
     ]
    },
    {
     "name": "stderr",
     "output_type": "stream",
     "text": [
      "\n",
      "[notice] A new release of pip is available: 24.0 -> 25.0.1\n",
      "[notice] To update, run: python.exe -m pip install --upgrade pip\n"
     ]
    }
   ],
   "source": [
    "!pip install ipywidgets"
   ]
  },
  {
   "cell_type": "code",
   "execution_count": 2,
   "id": "868f5fae-1e30-404d-a70c-ced026efa105",
   "metadata": {},
   "outputs": [],
   "source": [
    "import ipywidgets as widgets\n",
    "from os import listdir"
   ]
  },
  {
   "cell_type": "markdown",
   "id": "1a159184-31a1-4628-8a4d-ffcae3d4a5e5",
   "metadata": {},
   "source": [
    "## Profil utilisateur"
   ]
  },
  {
   "cell_type": "markdown",
   "id": "80f79f9f",
   "metadata": {},
   "source": [
    "Selection aléatoire de 20 images et construction du profil utilisateur"
   ]
  },
  {
   "cell_type": "code",
   "execution_count": null,
   "id": "c7ddc915",
   "metadata": {},
   "outputs": [
    {
     "data": {
      "application/vnd.jupyter.widget-view+json": {
       "model_id": "8602f9a257f74af68c8412f9b61939ef",
       "version_major": 2,
       "version_minor": 0
      },
      "text/plain": [
       "GridspecLayout(children=(Image(value=b'\\xff\\xd8\\xff\\xe0\\x00\\x10JFIF\\x00\\x01\\x02\\x01\\x00H\\x00H\\x00\\x00\\xff\\xe1\\…"
      ]
     },
     "metadata": {},
     "output_type": "display_data"
    },
    {
     "data": {
      "application/vnd.jupyter.widget-view+json": {
       "model_id": "d57c0e24bbe043008d99860bd48c16d3",
       "version_major": 2,
       "version_minor": 0
      },
      "text/plain": [
       "Button(description='Select', style=ButtonStyle())"
      ]
     },
     "metadata": {},
     "output_type": "display_data"
    },
    {
     "data": {
      "application/vnd.jupyter.widget-view+json": {
       "model_id": "eec729acda3a458192b208910d2747dc",
       "version_major": 2,
       "version_minor": 0
      },
      "text/plain": [
       "Output()"
      ]
     },
     "metadata": {},
     "output_type": "display_data"
    }
   ],
   "source": [
    "import json\n",
    "import random\n",
    "from ipywidgets import GridspecLayout, widgets, Image, Button, Output\n",
    "from os import listdir\n",
    "\n",
    "# Charger les données du fichier JSON\n",
    "with open(\"etiquetage.json\", \"r\", encoding=\"utf-8\") as file:\n",
    "    data = json.load(file)\n",
    "\n",
    "# Sélectionner aléatoirement 20 images\n",
    "sample_images = random.sample(data, 20)\n",
    "\n",
    "# Initialiser les listes pour les cases à cocher\n",
    "checkboxes = [widgets.Checkbox(value=False, description='Favorite') for _ in range(len(sample_images))]\n",
    "\n",
    "# Créer le layout GridspecLayout pour afficher les images\n",
    "layout = GridspecLayout(n_columns=2, n_rows=len(sample_images), width='400px')\n",
    "\n",
    "# Créer une fonction pour afficher les images et cases à cocher dans la grille\n",
    "for i, (img_data, checkbox) in enumerate(zip(sample_images, checkboxes)):\n",
    "    img_file = img_data['nom_image']  # Nom de l'image dans le JSON\n",
    "    file_path = f\"images/{img_file}\"  # Charger l'image depuis le dossier\n",
    "    with open(file_path, \"rb\") as file:\n",
    "        image = file.read()\n",
    "\n",
    "    # Créer un widget Image pour afficher l'image\n",
    "    image_widget = Image(\n",
    "        value=image,\n",
    "        format='png',  # Assurez-vous que le format est correct selon votre image\n",
    "        width=100,\n",
    "        height=100,\n",
    "    )\n",
    "    \n",
    "    # Ajouter l'image et la case à cocher dans la grille\n",
    "    layout[i, 0] = image_widget  # Met l'image dans la première colonne\n",
    "    layout[i, 1] = checkbox      # Met la case à cocher dans la deuxième colonne\n",
    "\n",
    "# Créer un bouton pour soumettre les résultats\n",
    "button = Button(description=\"Select\")\n",
    "\n",
    "# Afficher les résultats sélectionnés dans un output\n",
    "output = Output()\n",
    "\n",
    "# Fonction pour obtenir les images sélectionnées et les enregistrer dans un fichier JSON\n",
    "def get_selected_images(btn):\n",
    "    images = []\n",
    "    data = []\n",
    "    resultats = []\n",
    "\n",
    "    # Parcourir les images et voir si elles sont marquées comme favorites\n",
    "    for i, checkbox in enumerate(checkboxes):\n",
    "        img_data = sample_images[i]  # Données de l'image (nom, catégories, etc.)\n",
    "        \n",
    "        # Ajouter le nom de l'image à la liste \"images\"\n",
    "        images.append(img_data.get('nom_image', 'Unknown'))\n",
    "\n",
    "        # Ajouter les 5 catégories à la liste \"data\"\n",
    "        image_info = [\n",
    "            img_data.get('orientation', 'Unknown'),\n",
    "            img_data.get('resolution', 'Unknown'),\n",
    "            img_data.get('animal', 'Unknown'),\n",
    "            img_data.get('nature', 'Unknown'),\n",
    "            img_data.get('luminosité', 'Unknown')\n",
    "        ]\n",
    "        data.append(image_info)\n",
    "\n",
    "        # Ajouter le résultat à la liste \"resultats\"\n",
    "        result = \"Favorite\" if checkbox.value else \"NotFavorite\"\n",
    "        resultats.append(result)\n",
    "\n",
    "    # Sauvegarder les données dans un fichier JSON\n",
    "    with open(\"profil.json\", \"w\", encoding=\"utf-8\") as json_file:\n",
    "        json.dump({\"images\": images, \"data\": data, \"resultats\": resultats}, json_file, indent=4)\n",
    "    \n",
    "    # Afficher un message de succès dans l'output\n",
    "    with output:\n",
    "        output.clear_output()\n",
    "        print(\"Le profil utilisateur a été construit avec succès.\")\n",
    "        print(\"Images sélectionnées (avec leurs catégories et résultats) :\")\n",
    "        for img, img_data, res in zip(images, data, resultats):\n",
    "            print(f\"Image: {img} - Catégories: {img_data} - Résultat: {res}\")\n",
    "\n",
    "# Lier l'événement de clic sur le bouton pour obtenir les images sélectionnées\n",
    "button.on_click(get_selected_images)\n",
    "\n",
    "# Affichage de la grille et du bouton\n",
    "display(layout, button, output)\n"
   ]
  }
 ],
 "metadata": {
  "kernelspec": {
   "display_name": "env_msi",
   "language": "python",
   "name": "python3"
  },
  "language_info": {
   "codemirror_mode": {
    "name": "ipython",
    "version": 3
   },
   "file_extension": ".py",
   "mimetype": "text/x-python",
   "name": "python",
   "nbconvert_exporter": "python",
   "pygments_lexer": "ipython3",
   "version": "3.11.9"
  }
 },
 "nbformat": 4,
 "nbformat_minor": 5
}
