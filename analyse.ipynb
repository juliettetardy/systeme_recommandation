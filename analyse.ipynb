{
 "cells": [
  {
   "cell_type": "markdown",
   "metadata": {},
   "source": [
    "# Analyse Profil"
   ]
  },
  {
   "cell_type": "markdown",
   "metadata": {},
   "source": [
    "Analyse de l'importance des différents critères pour l'utilisateur de 0 à 1."
   ]
  },
  {
   "cell_type": "code",
   "execution_count": 8,
   "metadata": {},
   "outputs": [
    {
     "name": "stdout",
     "output_type": "stream",
     "text": [
      "Importances des caractéristiques (Random Forest) :\n",
      "   - orientation: 0.085\n",
      "   - qualite: 0.125\n",
      "   - animal: 0.142\n",
      "   - nature: 0.609\n",
      "   - luminosite: 0.039\n"
     ]
    }
   ],
   "source": [
    "import json\n",
    "import pandas as pd\n",
    "from sklearn.preprocessing import LabelEncoder\n",
    "from sklearn.ensemble import RandomForestClassifier\n",
    "from sklearn import tree\n",
    "\n",
    "# Charger les données du fichier JSON\n",
    "with open(\"profil.json\", \"r\", encoding=\"utf-8\") as file:\n",
    "    json_data = json.load(file)\n",
    "\n",
    "# Extraire les données et les résultats\n",
    "data = json_data[\"data\"]  \n",
    "result = json_data[\"resultats\"]  \n",
    "\n",
    "# Création du DataFrame\n",
    "dataframe = pd.DataFrame(data, columns=[\"orientation\", \"qualite\", \"animal\", \"nature\", \"luminosite\"])\n",
    "resultframe = pd.DataFrame(result, columns=[\"favorite\"])\n",
    "\n",
    "# Encoder les colonnes catégoriques en valeurs numériques\n",
    "label_encoders = {}\n",
    "for column in dataframe.columns:\n",
    "    le = LabelEncoder()\n",
    "    dataframe[column] = le.fit_transform(dataframe[column])\n",
    "    label_encoders[column] = le  # Stocker l'encodeur pour usage futur si besoin\n",
    "\n",
    "le_result = LabelEncoder()\n",
    "resultframe[\"favorite\"] = le_result.fit_transform(resultframe[\"favorite\"])\n",
    "\n",
    "# Création et entraînement du modèle Random Forest\n",
    "rfc = RandomForestClassifier(n_estimators=100, random_state=42)\n",
    "rfc.fit(dataframe.values, resultframe.values.ravel())\n",
    "\n",
    "# Affichage des importances des caractéristiques\n",
    "feature_importances = rfc.feature_importances_\n",
    "feature_names = dataframe.columns\n",
    "\n",
    "print(\"Importances des caractéristiques (Random Forest) :\")\n",
    "for feature, importance in zip(feature_names, feature_importances):\n",
    "    print(f\"   - {feature}: {importance:.3f}\")"
   ]
  },
  {
   "cell_type": "markdown",
   "metadata": {},
   "source": [
    "# Analyse des tendances des critères parmi les photos mises en favoris par l'utilisateur."
   ]
  },
  {
   "cell_type": "code",
   "execution_count": 6,
   "metadata": {},
   "outputs": [
    {
     "name": "stdout",
     "output_type": "stream",
     "text": [
      "Fréquence des orientations dans les images favorites :\n",
      "orientation\n",
      "Paysage    6\n",
      "Carre      1\n",
      "Name: count, dtype: int64\n",
      "\n",
      "Fréquence de la qualite dans les images favorites :\n",
      "qualite\n",
      "moyenne    5\n",
      "haute      1\n",
      "basse      1\n",
      "Name: count, dtype: int64\n",
      "\n",
      "Fréquence des animaux dans les images favorites :\n",
      "animal\n",
      "Chien      5\n",
      "Chat       1\n",
      "Unknown    1\n",
      "Name: count, dtype: int64\n",
      "\n",
      "Fréquence des natures dans les images favorites :\n",
      "nature\n",
      "en nature    7\n",
      "Name: count, dtype: int64\n",
      "\n",
      "Fréquence des luminosités dans les images favorites :\n",
      "luminosite\n",
      "sombre      4\n",
      "lumineux    3\n",
      "Name: count, dtype: int64\n"
     ]
    }
   ],
   "source": [
    "import pandas as pd\n",
    "\n",
    "# Créer un DataFrame\n",
    "df = pd.DataFrame(data, columns=[\"orientation\", \"qualite\", \"animal\", \"nature\", \"luminosite\"])\n",
    "\n",
    "# Ajouter la colonne des résultats\n",
    "df['result'] = result\n",
    "\n",
    "# Filtrer les données pour ne garder que les images favorites\n",
    "df_favorite = df[df['result'] == 'Favorite']\n",
    "\n",
    "# Analyser la fréquence des tags pour chaque caractéristique\n",
    "orientation_freq = df_favorite['orientation'].value_counts()\n",
    "animal_freq = df_favorite['animal'].value_counts()\n",
    "nature_freq = df_favorite['nature'].value_counts()\n",
    "luminosite_freq = df_favorite['luminosite'].value_counts()\n",
    "qualite_freq = df_favorite['qualite'].value_counts()\n",
    "\n",
    "# Afficher les statistiques\n",
    "print(\"Fréquence des orientations dans les images favorites :\")\n",
    "print(orientation_freq)\n",
    "\n",
    "print(\"\\nFréquence de la qualite dans les images favorites :\")\n",
    "print(qualite_freq)\n",
    "\n",
    "print(\"\\nFréquence des animaux dans les images favorites :\")\n",
    "print(animal_freq)\n",
    "\n",
    "print(\"\\nFréquence des natures dans les images favorites :\")\n",
    "print(nature_freq)\n",
    "\n",
    "print(\"\\nFréquence des luminosités dans les images favorites :\")\n",
    "print(luminosite_freq)\n",
    "\n",
    "\n"
   ]
  },
  {
   "cell_type": "markdown",
   "metadata": {},
   "source": [
    "# Liste des tags préférés"
   ]
  },
  {
   "cell_type": "code",
   "execution_count": 7,
   "metadata": {},
   "outputs": [
    {
     "name": "stdout",
     "output_type": "stream",
     "text": [
      "Tag préféré par catégorie :\n",
      "- Orientation : Paysage\n",
      "- Qualité : moyenne\n",
      "- Animal : Chien\n",
      "- Nature : en nature\n",
      "- Luminosité : sombre\n"
     ]
    }
   ],
   "source": [
    "orientation_pref = orientation_freq.idxmax() if orientation_freq.size > 0 else \"Aucune orientation préférée\"\n",
    "animal_pref = animal_freq.idxmax() if animal_freq.size > 0 else \"Aucun animal préféré\"\n",
    "qualite_pref = qualite_freq.idxmax() if qualite_freq.size > 0 else \"Aucun qualite préférée\"\n",
    "nature_pref = nature_freq.idxmax() if nature_freq.size > 0 else \"Aucune nature préférée\"\n",
    "luminosite_pref = luminosite_freq.idxmax() if luminosite_freq.size > 0 else \"Aucune luminosité préférée\"\n",
    "\n",
    "# Affichage des résultats\n",
    "print(\"Tag préféré par catégorie :\")\n",
    "print(f\"- Orientation : {orientation_pref}\")\n",
    "print(f\"- Qualité : {qualite_pref}\")\n",
    "print(f\"- Animal : {animal_pref}\")\n",
    "print(f\"- Nature : {nature_pref}\")\n",
    "print(f\"- Luminosité : {luminosite_pref}\")\n"
   ]
  }
 ],
 "metadata": {
  "kernelspec": {
   "display_name": "env_msi",
   "language": "python",
   "name": "python3"
  },
  "language_info": {
   "codemirror_mode": {
    "name": "ipython",
    "version": 3
   },
   "file_extension": ".py",
   "mimetype": "text/x-python",
   "name": "python",
   "nbconvert_exporter": "python",
   "pygments_lexer": "ipython3",
   "version": "3.11.9"
  }
 },
 "nbformat": 4,
 "nbformat_minor": 2
}
