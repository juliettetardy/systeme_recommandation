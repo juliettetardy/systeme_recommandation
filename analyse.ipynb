{
 "cells": [
  {
   "cell_type": "markdown",
   "metadata": {},
   "source": [
    "# Analyse Profil"
   ]
  },
  {
   "cell_type": "markdown",
   "metadata": {},
   "source": [
    "Analyse de l'importance des différents critères pour l'utilisateur de 0 à 1."
   ]
  },
  {
   "cell_type": "code",
   "execution_count": null,
   "metadata": {},
   "outputs": [
    {
     "name": "stdout",
     "output_type": "stream",
     "text": [
      "Data: {'data': [['LUPO%20ITALIANO%20-%20PALIO%20DI%20CENEDA%202018%2015.png', 'Portrait', '701x909', None, 'Chien', True], ['Volpino04.jpg', 'Paysage', '280x222', None, 'Chien', False], ['Estrela%20Mountain%20Dog%206%20month%20old%20male.jpg', 'Paysage', '736x541', None, 'Chien', True], ['Cat%20Sphynx.%20img%20025.jpg', 'Paysage', '3677x3000', 100, 'Chat', False], ['Kishu.jpg', 'Paysage', '240x159', None, 'Chien', False], ['Irsika.jpg', 'Portrait', '750x931', 400, 'Chien', True], ['Grupp%209%2C%20LHASA%20APSO%2C%20DK%20JV-13%20DK%20V-14%20DK%20V-15%20NO%20UCH%20NO%20V-15%20SE%20UCH%20Chic%20Choix%20Some%20Like%20It%20Chic%20%2824014621720%29.jpg', 'Paysage', '1656x1104', 200, 'Chien', False], ['Australian%20Mist.jpg', 'Portrait', '870x885', None, 'Chat', False], ['Khaomanee%20cat.jpg', 'Portrait', '3024x4032', 100, 'Chat', False], ['Engelse%20setter%20pup.JPG', 'Paysage', '1600x1200', None, 'Chien', False], ['Noorse-boskat%20wikipedia%201.JPG', 'Portrait', '480x640', None, 'Chat', False], ['%282%29%20Isha%20female%20rajapalayam.jpg', 'Paysage', '1573x1225', 64, 'Chien', False], ['Ratonero%20valenciano%20dunkel.jpg', 'Paysage', '789x597', None, 'Chien', False], ['Bex%20Arabian%20Mau.jpg', 'Paysage', '720x480', None, 'Chat', False], ['Hannoverscher%20Schweisshund.jpg', 'Paysage', '800x618', None, 'Chien', False], ['AmericanCockerSpaniel%20wb.jpg', 'Carré', '569x569', None, 'Chien', True], ['Male%20Burmilla%20cat.jpeg', 'Paysage', '471x423', None, 'Chat', True], ['Dog%20Hovavart.jpg', 'Portrait', '308x388', None, 'Chien', True], ['Paintedcats%20Red%20Star%20standing.jpg', 'Portrait', '1200x1541', None, 'Chat', False], ['Norwegian%20Hygenhound.jpg', 'Paysage', '2000x1500', None, 'Chien', True]], 'result': ['NotFavorite', 'NotFavorite', 'NotFavorite', 'NotFavorite', 'Favorite', 'NotFavorite', 'NotFavorite', 'NotFavorite', 'Favorite', 'NotFavorite', 'NotFavorite', 'NotFavorite', 'NotFavorite', 'NotFavorite', 'NotFavorite', 'NotFavorite', 'NotFavorite', 'Favorite', 'Favorite', 'NotFavorite']}\n",
      "Result: ['NotFavorite', 'NotFavorite', 'NotFavorite', 'NotFavorite', 'Favorite', 'NotFavorite', 'NotFavorite', 'NotFavorite', 'Favorite', 'NotFavorite', 'NotFavorite', 'NotFavorite', 'NotFavorite', 'NotFavorite', 'NotFavorite', 'NotFavorite', 'NotFavorite', 'Favorite', 'Favorite', 'NotFavorite']\n"
     ]
    }
   ],
   "source": [
    "import json\n",
    "\n",
    "# Charger les données du fichier profil.json\n",
    "with open(\"profil.json\", \"r\", encoding=\"utf-8\") as file:\n",
    "    data = json.load(file)\n",
    "\n",
    "# Extraire les informations de \"data\" et \"result\"\n",
    "data_list = data[\"data\"]\n",
    "results = data[\"result\"]\n",
    "\n",
    "# Ignorer la première ligne (nom de l'image)\n",
    "data_list = data_list[1:]  # Ignore la première ligne\n",
    "\n",
    "# Préparer les listes data et result\n",
    "data_result = []\n",
    "result_result = []\n",
    "\n",
    "# Exemple de traitement des données (comme expliqué précédemment)\n",
    "for i, item in enumerate(data_list):\n",
    "    if results[i] == \"Favorite\":\n",
    "        # Extraction des informations de chaque image\n",
    "        orientation = item[1]  \n",
    "        resolution = item[4]  # catégorie (animal)\n",
    "        animal = item[2]  # resolution de l'image\n",
    "        nature = resolution  # Ou, tu peux appliquer un traitement sur la résolution comme expliqué plus tôt\n",
    "        luminosité = item[1]  # orientation (Paysage, Portrait, etc.)\n",
    "\n",
    "        data_result.append([orientation, orientation, size, orientation])\n",
    "        result_result.append(\"Favorite\")\n",
    "\n",
    "# Afficher les résultats\n",
    "print(\"Data Result:\", data_result)\n",
    "print(\"Result Result:\", result_result)\n",
    "\n"
   ]
  },
  {
   "cell_type": "code",
   "execution_count": 25,
   "metadata": {},
   "outputs": [
    {
     "name": "stdout",
     "output_type": "stream",
     "text": [
      "Data: [['Paysage', 'Chien', 'medium', 'Paysage'], ['Portrait', 'Chat', 'medium', 'Portrait'], ['Portrait', 'Chien', 'medium', 'Portrait'], ['Portrait', 'Chat', 'medium', 'Portrait']]\n",
      "Result: ['Favorite', 'Favorite', 'Favorite', 'Favorite']\n"
     ]
    }
   ],
   "source": [
    "\n",
    "# Charger les données du fichier profil.json\n",
    "with open(\"profil.json\", \"r\", encoding=\"utf-8\") as file:\n",
    "    data = json.load(file)\n",
    "\n",
    "# Extraire les informations de \"data\" et \"result\"\n",
    "data_list = data[\"data\"]\n",
    "results = data[\"result\"]\n",
    "\n",
    "# Préparer les listes data et result\n",
    "data_result = []\n",
    "result_result = []\n",
    "\n",
    "# Analyser les photos favorites\n",
    "for i, item in enumerate(data_list):\n",
    "    # Si l'image est marquée comme Favorite\n",
    "    if results[i] == \"Favorite\":\n",
    "        # Récupérer les données correspondantes\n",
    "        color = item[1]  # orientation\n",
    "        category = item[4]  # catégorie (animal)\n",
    "        size = \"thumbnail\" if item[2] == \"701x909\" else \"medium\"  # En fonction de la résolution (c'est un exemple)\n",
    "        orientation = item[1]  # orientation (Paysage, Portrait, etc.)\n",
    "        \n",
    "        # Ajouter à la liste data et result\n",
    "        data_result.append([color, category, size, orientation])\n",
    "        result_result.append(\"Favorite\")\n",
    "\n",
    "# Afficher les résultats\n",
    "print(\"Data:\", data_result)\n",
    "print(\"Result:\", result_result)\n"
   ]
  },
  {
   "cell_type": "markdown",
   "metadata": {},
   "source": [
    "Analyse des tendances des critères parmi les photos mises en favoris par l'utilisateur."
   ]
  },
  {
   "cell_type": "code",
   "execution_count": null,
   "metadata": {},
   "outputs": [
    {
     "name": "stdout",
     "output_type": "stream",
     "text": [
      "Orientation préférée : Counter({'Paysage': 12, 'Portrait': 7, 'Carré': 1})\n",
      "Résolutions préférées : Counter({'701x909': 1, '280x222': 1, '736x541': 1, '3677x3000': 1, '240x159': 1, '750x931': 1, '1656x1104': 1, '870x885': 1, '3024x4032': 1, '1600x1200': 1, '480x640': 1, '1573x1225': 1, '789x597': 1, '720x480': 1, '800x618': 1, '569x569': 1, '471x423': 1, '308x388': 1, '1200x1541': 1, '2000x1500': 1})\n",
      "ISO préféré: Counter({100.0: 2, nan: 1, nan: 1, nan: 1, nan: 1, 400.0: 1, 200.0: 1, nan: 1, nan: 1, nan: 1, 64.0: 1, nan: 1, nan: 1, nan: 1, nan: 1, nan: 1, nan: 1, nan: 1, nan: 1})\n",
      "Catégorie d'animal : Counter({'Chien': 13, 'Chat': 7})\n",
      "Dans la nature ? : Counter({False: 13, True: 7})\n"
     ]
    }
   ],
   "source": [
    "import json\n",
    "import pandas as pd\n",
    "from collections import Counter\n",
    "\n",
    "# Charger les données du fichier profil.json\n",
    "with open(\"profil.json\", \"r\", encoding=\"utf-8\") as file:\n",
    "    data = json.load(file)\n",
    "\n",
    "# Extraire les informations de \"data\" et retirer la première colonne (nom_image)\n",
    "data_list = data[\"data\"]\n",
    "\n",
    "# Exclure la première colonne de chaque ligne (nom_image)\n",
    "data_without_first_column = [item[1:] for item in data_list]  # On enlève la première colonne\n",
    "\n",
    "# Créer un DataFrame avec 4 colonnes restantes : orientation, resolution, iso, prediction, nature\n",
    "df = pd.DataFrame(data_without_first_column, columns=['orientation', 'resolution', 'iso', 'prediction', 'nature'])\n",
    "\n",
    "# Analyser les tendances pour chaque aspect des images\n",
    "def analyze_preferences():\n",
    "    orientation = Counter(df['orientation'])\n",
    "    resolution = Counter(df['resolution'])\n",
    "    iso = Counter(df['iso'])\n",
    "    prediction = Counter(df['prediction'])\n",
    "    nature = Counter(df['nature'])\n",
    "\n",
    "    # Afficher les tendances\n",
    "    print(\"Orientation préférée :\", orientation)\n",
    "    print(\"Résolutions préférées :\", resolution)\n",
    "    print(\"ISO préféré:\", iso)\n",
    "    print(\"Catégorie d'animal :\", prediction)\n",
    "    print(\"Dans la nature ? :\", nature)\n",
    "\n",
    "# Appeler la fonction d'analyse\n",
    "analyze_preferences()\n"
   ]
  },
  {
   "cell_type": "markdown",
   "metadata": {},
   "source": [
    "# Recommandation"
   ]
  },
  {
   "cell_type": "code",
   "execution_count": null,
   "metadata": {},
   "outputs": [],
   "source": [
    "from sklearn import tree\n",
    "import pandas as pd\n",
    "from sklearn.preprocessing import LabelEncoder\n",
    "\n",
    "data = [\n",
    "    [\"Paysage\", \"nature\", \"thumbnail\", \"landscape\"],\n",
    "    [\"Portrait\", \"architecture\", \"medium\", \"portrait\"],\n",
    "    [\"Carré\", \"people\", \"medium\", \"landscape\"],\n",
    "    [\"Paysage\", \"nature\", \"medium\", \"portrait\"],\n",
    "    [\"Portrait\", \"nature\", \"thumbnail\", \"landscape\"],\n",
    "    [\"Paysage\", \"people\", \"medium\", \"landscape\"],\n",
    "    [\"Portrait\", \"nature\", \"thumbnail\", \"portrait\"],\n",
    "    [\"Portrait\", \"architecture\", \"thumbnail\", \"landscape\"],\n",
    "    [\"Carré\", \"people\", \"medium\", \"portrait\"],\n",
    "    [\"Paysage\", \"nature\", \"medium\", \"landscape\"],\n",
    "    [\"Paysage\", \"people\", \"thumbnail\", \"portrait\"],\n",
    "    [\"Portrait\", \"people\", \"medium\", \"landscape\"],\n",
    "    [\"Paysage\", \"architecture\", \"thumbnail\", \"landscape\"],\n",
    "]\n",
    "result = [\n",
    "    \"Favorite\",\n",
    "    \"NotFavorite\",\n",
    "    \"Favorite\",\n",
    "    \"Favorite\",\n",
    "    \"Favorite\",\n",
    "    \"Favorite\",\n",
    "    \"Favorite\",\n",
    "    \"NotFavorite\",\n",
    "    \"NotFavorite\",\n",
    "    \"Favorite\",\n",
    "    \"Favorite\",\n",
    "    \"NotFavorite\",\n",
    "    \"NotFavorite\",\n",
    "]\n",
    "\n",
    "# Creating dataframes\n",
    "dataframe = pd.DataFrame(data, columns=[\"color\", \"tag\", \"size\", \"mode\"])\n",
    "resultframe = pd.DataFrame(result, columns=[\"favorite\"])\n",
    "\n",
    "# generating numerical labels\n",
    "le1 = LabelEncoder()\n",
    "dataframe[\"color\"] = le1.fit_transform(dataframe[\"color\"])\n",
    "\n",
    "le2 = LabelEncoder()\n",
    "dataframe[\"tag\"] = le2.fit_transform(dataframe[\"tag\"])\n",
    "\n",
    "le3 = LabelEncoder()\n",
    "dataframe[\"size\"] = le3.fit_transform(dataframe[\"size\"])\n",
    "\n",
    "le4 = LabelEncoder()\n",
    "dataframe[\"mode\"] = le4.fit_transform(dataframe[\"mode\"])\n",
    "\n",
    "le5 = LabelEncoder()\n",
    "resultframe[\"favorite\"] = le5.fit_transform(resultframe[\"favorite\"])\n",
    "\n",
    "# Use of decision tree classifiers\n",
    "dtc = tree.DecisionTreeClassifier()\n",
    "dtc = dtc.fit(dataframe.values, resultframe)\n",
    "\n",
    "# prediction\n",
    "prediction = dtc.predict(\n",
    "    [\n",
    "        [\n",
    "            le1.transform([\"red\"])[0],\n",
    "            le2.transform([\"nature\"])[0],\n",
    "            le3.transform([\"thumbnail\"])[0],\n",
    "            le4.transform([\"portrait\"])[0],\n",
    "        ]\n",
    "    ]\n",
    ")\n",
    "print(le5.inverse_transform(prediction))\n",
    "print(dtc.feature_importances_)"
   ]
  },
  {
   "cell_type": "code",
   "execution_count": null,
   "metadata": {},
   "outputs": [],
   "source": []
  }
 ],
 "metadata": {
  "kernelspec": {
   "display_name": "env_msi",
   "language": "python",
   "name": "python3"
  },
  "language_info": {
   "codemirror_mode": {
    "name": "ipython",
    "version": 3
   },
   "file_extension": ".py",
   "mimetype": "text/x-python",
   "name": "python",
   "nbconvert_exporter": "python",
   "pygments_lexer": "ipython3",
   "version": "3.11.9"
  }
 },
 "nbformat": 4,
 "nbformat_minor": 2
}
